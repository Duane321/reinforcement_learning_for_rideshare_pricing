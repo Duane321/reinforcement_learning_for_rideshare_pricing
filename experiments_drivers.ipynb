{
 "cells": [
  {
   "cell_type": "code",
   "execution_count": 1,
   "metadata": {},
   "outputs": [],
   "source": [
    "import torch\n",
    "import math\n",
    "import numpy as np\n",
    "import json"
   ]
  },
  {
   "cell_type": "code",
   "execution_count": 2,
   "metadata": {},
   "outputs": [],
   "source": [
    "from lyft_simulation import *"
   ]
  },
  {
   "cell_type": "code",
   "execution_count": 5,
   "metadata": {},
   "outputs": [],
   "source": [
    "num_drivers = 100\n",
    "num_subgrids = 16"
   ]
  },
  {
   "cell_type": "code",
   "execution_count": 12,
   "metadata": {},
   "outputs": [],
   "source": [
    "num_subgrids_per_dim = 4\n",
    "num_subgrids = num_subgrids_per_dim ** 2"
   ]
  },
  {
   "cell_type": "code",
   "execution_count": 13,
   "metadata": {},
   "outputs": [],
   "source": [
    "subgrid_size = 1.0 / num_subgrids_per_dim\n",
    "subgrid_bounds = torch.zeros(num_subgrids, 2, 2)\n",
    "for i in range(num_subgrids_per_dim):\n",
    "    for j in range(num_subgrids_per_dim):\n",
    "        subgrid_index = i * num_subgrids_per_dim + j\n",
    "        subgrid_bounds[subgrid_index, 0] = torch.tensor([i * subgrid_size, (i + 1) * subgrid_size])\n",
    "        subgrid_bounds[subgrid_index, 1] = torch.tensor([j * subgrid_size, (j + 1) * subgrid_size])\n"
   ]
  },
  {
   "cell_type": "code",
   "execution_count": 15,
   "metadata": {},
   "outputs": [
    {
     "data": {
      "text/plain": [
       "torch.Size([16, 2, 2])"
      ]
     },
     "execution_count": 15,
     "metadata": {},
     "output_type": "execute_result"
    }
   ],
   "source": [
    "subgrid_bounds.size()"
   ]
  },
  {
   "cell_type": "code",
   "execution_count": 28,
   "metadata": {},
   "outputs": [],
   "source": [
    "# Assign each driver to a subgrid\n",
    "driver_subgrids = torch.randint(0, num_subgrids, (num_drivers,))\n",
    "\n",
    "# Initialize the driver positions randomly within their assigned subgrids\n",
    "driver_positions = torch.zeros(num_drivers, 2)"
   ]
  },
  {
   "cell_type": "code",
   "execution_count": 31,
   "metadata": {},
   "outputs": [],
   "source": [
    "for i in range(num_subgrids):\n",
    "    mask = driver_subgrids == i\n",
    "    x_min, x_max = subgrid_bounds[i, 0]\n",
    "    y_min, y_max = subgrid_bounds[i, 1]\n",
    "    driver_positions[mask, 0] = torch.rand(mask.sum()) * (x_max - x_min) + x_min\n",
    "    driver_positions[mask, 1] = torch.rand(mask.sum()) * (y_max - y_min) + y_min"
   ]
  },
  {
   "cell_type": "code",
   "execution_count": 35,
   "metadata": {},
   "outputs": [],
   "source": [
    "# Define the probability distribution for driver idle times\n",
    "daytime_prob = 0.8  # Probability of drivers working during daytime hours\n",
    "nighttime_prob = 1 - daytime_prob\n",
    "daytime_hours = torch.arange(7, 23)  # Daytime hours (7 AM to 10 PM)\n",
    "nighttime_hours = torch.cat((torch.arange(0, 7), torch.arange(23, 24)))  # Nighttime hours (12 AM to 7 AM and 11 PM to 12 AM)\n",
    "idle_time_probs = torch.zeros(24)\n",
    "idle_time_probs[daytime_hours] = daytime_prob\n",
    "idle_time_probs[nighttime_hours] = nighttime_prob\n",
    "idle_time_probs /= idle_time_probs.sum()"
   ]
  },
  {
   "cell_type": "code",
   "execution_count": 36,
   "metadata": {},
   "outputs": [
    {
     "data": {
      "text/plain": [
       "tensor([0.0139, 0.0139, 0.0139, 0.0139, 0.0139, 0.0139, 0.0139, 0.0556, 0.0556,\n",
       "        0.0556, 0.0556, 0.0556, 0.0556, 0.0556, 0.0556, 0.0556, 0.0556, 0.0556,\n",
       "        0.0556, 0.0556, 0.0556, 0.0556, 0.0556, 0.0139])"
      ]
     },
     "execution_count": 36,
     "metadata": {},
     "output_type": "execute_result"
    }
   ],
   "source": [
    "idle_time_probs"
   ]
  },
  {
   "cell_type": "code",
   "execution_count": 37,
   "metadata": {},
   "outputs": [],
   "source": [
    "idle_starttime = torch.multinomial(idle_time_probs, num_drivers, replacement=True) * 60"
   ]
  },
  {
   "cell_type": "code",
   "execution_count": 38,
   "metadata": {},
   "outputs": [
    {
     "data": {
      "text/plain": [
       "tensor([1380,  780,  600,  960,  720,  600,  420,  780, 1080, 1260,  960,  900,\n",
       "        1080, 1320, 1200, 1260,  840, 1320, 1020, 1380,  420,  900, 1200,  600,\n",
       "         840,  840, 1260, 1200,  540,  660, 1080, 1200, 1320, 1020,  960, 1380,\n",
       "         480,  420,  420,  480, 1020,  540,  960, 1320, 1260,  840,  240, 1260,\n",
       "        1140, 1140, 1260, 1140,  600,  720,  720, 1140,  660, 1260, 1320,  240,\n",
       "         480, 1020, 1020,  540, 1320,  420, 1200, 1320,  600,  960, 1020,  840,\n",
       "        1020,  720,  720,  540, 1200, 1320,  960,  540, 1140, 1200, 1080,  720,\n",
       "         660, 1260,  780,  660,  540,  840,  840,  360,  480,  660,  840,  420,\n",
       "        1140,    0,  660,  660])"
      ]
     },
     "execution_count": 38,
     "metadata": {},
     "output_type": "execute_result"
    }
   ],
   "source": [
    "idle_starttime"
   ]
  },
  {
   "cell_type": "code",
   "execution_count": null,
   "metadata": {},
   "outputs": [],
   "source": []
  },
  {
   "cell_type": "code",
   "execution_count": 24,
   "metadata": {},
   "outputs": [],
   "source": [
    "# on avg. a driver can work for 3hrs\n",
    "mean_idle_time = 180"
   ]
  },
  {
   "cell_type": "code",
   "execution_count": 25,
   "metadata": {},
   "outputs": [],
   "source": [
    "exponential_dist = torch.distributions.exponential.Exponential(torch.tensor(1.0 / mean_idle_time))"
   ]
  },
  {
   "cell_type": "code",
   "execution_count": 26,
   "metadata": {},
   "outputs": [],
   "source": [
    "idle_duration = exponential_dist.sample((num_drivers,)).clamp(min=1, max=24 * 60).int().long()"
   ]
  },
  {
   "cell_type": "code",
   "execution_count": 27,
   "metadata": {},
   "outputs": [
    {
     "data": {
      "text/plain": [
       "tensor([ 28, 371,   5, 113,  25,  14,  20, 112, 130, 768, 150, 261, 561,  84,\n",
       "         14,  66,  58, 113,  42,   3,   6,   3, 179, 666,  71, 294,  43,  31,\n",
       "        127, 113, 517, 198, 123, 122,   7,  30,  34, 143,   4,  87,  11,  14,\n",
       "         88, 393, 243,  62, 105,  47,  40,   3,  62,  33, 520, 144, 316, 364,\n",
       "         83,  12, 323,  45, 235,  66, 169,   7, 357, 197, 171, 251,  21,  66,\n",
       "        346, 398, 671, 130, 105, 508,  93,  14,  14,  83,  31, 112, 333, 185,\n",
       "        434, 360, 123, 112, 318, 497,  65, 245,  69, 147,  28, 145,  36,  59,\n",
       "         55, 164])"
      ]
     },
     "execution_count": 27,
     "metadata": {},
     "output_type": "execute_result"
    }
   ],
   "source": [
    "idle_duration"
   ]
  },
  {
   "cell_type": "code",
   "execution_count": 42,
   "metadata": {},
   "outputs": [],
   "source": [
    "drivers = torch.cat((idle_starttime.unsqueeze(1), idle_duration.unsqueeze(1), driver_positions), 1)"
   ]
  },
  {
   "cell_type": "markdown",
   "metadata": {},
   "source": [
    "### test py code"
   ]
  },
  {
   "cell_type": "code",
   "execution_count": 3,
   "metadata": {},
   "outputs": [],
   "source": [
    "T0_pricing_params = (5, 0.78, 1.82)\n",
    "lr = 0.01\n",
    "simulation_week1 = WeeklySimulation(lr, T0_pricing_params)"
   ]
  },
  {
   "cell_type": "code",
   "execution_count": 4,
   "metadata": {},
   "outputs": [],
   "source": [
    "drivers_week1_S0 = simulation_week1.simulate_drivers()"
   ]
  },
  {
   "cell_type": "code",
   "execution_count": 5,
   "metadata": {},
   "outputs": [
    {
     "data": {
      "text/plain": [
       "torch.Size([100, 4])"
      ]
     },
     "execution_count": 5,
     "metadata": {},
     "output_type": "execute_result"
    }
   ],
   "source": [
    "drivers_week1_S0.size()"
   ]
  },
  {
   "cell_type": "code",
   "execution_count": 6,
   "metadata": {},
   "outputs": [
    {
     "data": {
      "text/plain": [
       "tensor([1.1400e+03, 1.4000e+01, 9.0193e-01, 7.4738e-01])"
      ]
     },
     "execution_count": 6,
     "metadata": {},
     "output_type": "execute_result"
    }
   ],
   "source": [
    "drivers_week1_S0[0]"
   ]
  },
  {
   "cell_type": "code",
   "execution_count": 8,
   "metadata": {},
   "outputs": [
    {
     "data": {
      "text/plain": [
       "tensor([14,  2,  9,  1, 13, 10,  8, 13,  7,  0,  5,  8,  3,  1,  7,  3,  6,  3,\n",
       "         7,  1,  8,  2,  9, 11,  5,  7, 13, 11,  4,  6,  4,  0,  6,  7, 11,  1,\n",
       "        12, 12, 14, 15,  0, 14,  3, 13,  9,  1, 13,  4,  0, 13,  1, 12, 15,  6,\n",
       "         0,  2,  6,  0,  2,  8,  2, 13, 15,  8,  5, 12, 11,  8,  1,  0,  4, 11,\n",
       "        11,  3, 12,  9, 15,  6,  0,  3,  0,  1,  8,  4,  2,  8,  9,  9, 12,  6,\n",
       "         6, 11,  3,  3,  9,  2,  9, 12,  0,  7], dtype=torch.int32)"
      ]
     },
     "execution_count": 8,
     "metadata": {},
     "output_type": "execute_result"
    }
   ],
   "source": [
    "simulation_week1.get_subblock_index(drivers_week1_S0[:, 2], drivers_week1_S0[:, 3])"
   ]
  },
  {
   "cell_type": "code",
   "execution_count": null,
   "metadata": {},
   "outputs": [],
   "source": []
  },
  {
   "cell_type": "markdown",
   "metadata": {},
   "source": [
    "### TODO - \n",
    "### since in each request has to be matched to an idle driver within the same sub-block, maybe we don't need to update the driver's location after finishing the trip(to avoid loops).\n",
    "### the problem is for those trips that cannot be finished within each 30-min interval\n",
    "\n",
    "\n",
    "### matching - for every 30-min interval, iterate through each sub-block, for rider requests mask on the timestamp and the sub-block id; for drivers, mask on idle(not in busy_drivers and current timestamp within [idle_start_time, idle_start_time+idle_duration]) and sub-block id, randomly pick a valid driver(if no valid driver, cancel the request right away), do the match(acceptance prob. for both parties) and add the current driver and the trip end timestamp to the busy_drivers hashmap.\n",
    "\n",
    "\n",
    "\n",
    "\n",
    "### if there are so many requests not able to find even a valid driver, may consider add more total drivers.\n",
    "\n",
    "### how M0 impacts S1\n",
    "\n",
    "### may still sample idle position and idle time every day and match every 30mins.\n",
    "### a driver's reject may change the driver's mean_idle_time(for exp var to sample idle time), may or may not affect driver's initial position for the next day"
   ]
  },
  {
   "cell_type": "code",
   "execution_count": null,
   "metadata": {},
   "outputs": [],
   "source": []
  },
  {
   "cell_type": "code",
   "execution_count": null,
   "metadata": {},
   "outputs": [],
   "source": []
  },
  {
   "cell_type": "code",
   "execution_count": null,
   "metadata": {},
   "outputs": [],
   "source": []
  },
  {
   "cell_type": "markdown",
   "metadata": {},
   "source": []
  }
 ],
 "metadata": {
  "kernelspec": {
   "display_name": "ride_sim",
   "language": "python",
   "name": "python3"
  },
  "language_info": {
   "codemirror_mode": {
    "name": "ipython",
    "version": 3
   },
   "file_extension": ".py",
   "mimetype": "text/x-python",
   "name": "python",
   "nbconvert_exporter": "python",
   "pygments_lexer": "ipython3",
   "version": "3.9.19"
  }
 },
 "nbformat": 4,
 "nbformat_minor": 2
}
