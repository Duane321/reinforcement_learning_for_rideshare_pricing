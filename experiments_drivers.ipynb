{
 "cells": [
  {
   "cell_type": "code",
   "execution_count": 1,
   "metadata": {},
   "outputs": [],
   "source": [
    "import torch\n",
    "import math\n",
    "import numpy as np\n",
    "import json"
   ]
  },
  {
   "cell_type": "code",
   "execution_count": 2,
   "metadata": {},
   "outputs": [],
   "source": [
    "from lyft_simulation import *"
   ]
  },
  {
   "cell_type": "code",
   "execution_count": 5,
   "metadata": {},
   "outputs": [],
   "source": [
    "num_drivers = 100\n",
    "num_subgrids = 16"
   ]
  },
  {
   "cell_type": "code",
   "execution_count": 12,
   "metadata": {},
   "outputs": [],
   "source": [
    "num_subgrids_per_dim = 4\n",
    "num_subgrids = num_subgrids_per_dim ** 2"
   ]
  },
  {
   "cell_type": "code",
   "execution_count": 13,
   "metadata": {},
   "outputs": [],
   "source": [
    "subgrid_size = 1.0 / num_subgrids_per_dim\n",
    "subgrid_bounds = torch.zeros(num_subgrids, 2, 2)\n",
    "for i in range(num_subgrids_per_dim):\n",
    "    for j in range(num_subgrids_per_dim):\n",
    "        subgrid_index = i * num_subgrids_per_dim + j\n",
    "        subgrid_bounds[subgrid_index, 0] = torch.tensor([i * subgrid_size, (i + 1) * subgrid_size])\n",
    "        subgrid_bounds[subgrid_index, 1] = torch.tensor([j * subgrid_size, (j + 1) * subgrid_size])\n"
   ]
  },
  {
   "cell_type": "code",
   "execution_count": 15,
   "metadata": {},
   "outputs": [
    {
     "data": {
      "text/plain": [
       "torch.Size([16, 2, 2])"
      ]
     },
     "execution_count": 15,
     "metadata": {},
     "output_type": "execute_result"
    }
   ],
   "source": [
    "subgrid_bounds.size()"
   ]
  },
  {
   "cell_type": "code",
   "execution_count": 28,
   "metadata": {},
   "outputs": [],
   "source": [
    "# Assign each driver to a subgrid\n",
    "driver_subgrids = torch.randint(0, num_subgrids, (num_drivers,))\n",
    "\n",
    "# Initialize the driver positions randomly within their assigned subgrids\n",
    "driver_positions = torch.zeros(num_drivers, 2)"
   ]
  },
  {
   "cell_type": "code",
   "execution_count": 31,
   "metadata": {},
   "outputs": [],
   "source": [
    "for i in range(num_subgrids):\n",
    "    mask = driver_subgrids == i\n",
    "    x_min, x_max = subgrid_bounds[i, 0]\n",
    "    y_min, y_max = subgrid_bounds[i, 1]\n",
    "    driver_positions[mask, 0] = torch.rand(mask.sum()) * (x_max - x_min) + x_min\n",
    "    driver_positions[mask, 1] = torch.rand(mask.sum()) * (y_max - y_min) + y_min"
   ]
  },
  {
   "cell_type": "code",
   "execution_count": 35,
   "metadata": {},
   "outputs": [],
   "source": [
    "# Define the probability distribution for driver idle times\n",
    "daytime_prob = 0.8  # Probability of drivers working during daytime hours\n",
    "nighttime_prob = 1 - daytime_prob\n",
    "daytime_hours = torch.arange(7, 23)  # Daytime hours (7 AM to 10 PM)\n",
    "nighttime_hours = torch.cat((torch.arange(0, 7), torch.arange(23, 24)))  # Nighttime hours (12 AM to 7 AM and 11 PM to 12 AM)\n",
    "idle_time_probs = torch.zeros(24)\n",
    "idle_time_probs[daytime_hours] = daytime_prob\n",
    "idle_time_probs[nighttime_hours] = nighttime_prob\n",
    "idle_time_probs /= idle_time_probs.sum()"
   ]
  },
  {
   "cell_type": "code",
   "execution_count": 36,
   "metadata": {},
   "outputs": [
    {
     "data": {
      "text/plain": [
       "tensor([0.0139, 0.0139, 0.0139, 0.0139, 0.0139, 0.0139, 0.0139, 0.0556, 0.0556,\n",
       "        0.0556, 0.0556, 0.0556, 0.0556, 0.0556, 0.0556, 0.0556, 0.0556, 0.0556,\n",
       "        0.0556, 0.0556, 0.0556, 0.0556, 0.0556, 0.0139])"
      ]
     },
     "execution_count": 36,
     "metadata": {},
     "output_type": "execute_result"
    }
   ],
   "source": [
    "idle_time_probs"
   ]
  },
  {
   "cell_type": "code",
   "execution_count": 37,
   "metadata": {},
   "outputs": [],
   "source": [
    "idle_starttime = torch.multinomial(idle_time_probs, num_drivers, replacement=True) * 60"
   ]
  },
  {
   "cell_type": "code",
   "execution_count": 38,
   "metadata": {},
   "outputs": [
    {
     "data": {
      "text/plain": [
       "tensor([1380,  780,  600,  960,  720,  600,  420,  780, 1080, 1260,  960,  900,\n",
       "        1080, 1320, 1200, 1260,  840, 1320, 1020, 1380,  420,  900, 1200,  600,\n",
       "         840,  840, 1260, 1200,  540,  660, 1080, 1200, 1320, 1020,  960, 1380,\n",
       "         480,  420,  420,  480, 1020,  540,  960, 1320, 1260,  840,  240, 1260,\n",
       "        1140, 1140, 1260, 1140,  600,  720,  720, 1140,  660, 1260, 1320,  240,\n",
       "         480, 1020, 1020,  540, 1320,  420, 1200, 1320,  600,  960, 1020,  840,\n",
       "        1020,  720,  720,  540, 1200, 1320,  960,  540, 1140, 1200, 1080,  720,\n",
       "         660, 1260,  780,  660,  540,  840,  840,  360,  480,  660,  840,  420,\n",
       "        1140,    0,  660,  660])"
      ]
     },
     "execution_count": 38,
     "metadata": {},
     "output_type": "execute_result"
    }
   ],
   "source": [
    "idle_starttime"
   ]
  },
  {
   "cell_type": "code",
   "execution_count": null,
   "metadata": {},
   "outputs": [],
   "source": []
  },
  {
   "cell_type": "code",
   "execution_count": 24,
   "metadata": {},
   "outputs": [],
   "source": [
    "# on avg. a driver can work for 3hrs\n",
    "mean_idle_time = 180"
   ]
  },
  {
   "cell_type": "code",
   "execution_count": 25,
   "metadata": {},
   "outputs": [],
   "source": [
    "exponential_dist = torch.distributions.exponential.Exponential(torch.tensor(1.0 / mean_idle_time))"
   ]
  },
  {
   "cell_type": "code",
   "execution_count": 26,
   "metadata": {},
   "outputs": [],
   "source": [
    "idle_duration = exponential_dist.sample((num_drivers,)).clamp(min=1, max=24 * 60).int().long()"
   ]
  },
  {
   "cell_type": "code",
   "execution_count": 27,
   "metadata": {},
   "outputs": [
    {
     "data": {
      "text/plain": [
       "tensor([ 28, 371,   5, 113,  25,  14,  20, 112, 130, 768, 150, 261, 561,  84,\n",
       "         14,  66,  58, 113,  42,   3,   6,   3, 179, 666,  71, 294,  43,  31,\n",
       "        127, 113, 517, 198, 123, 122,   7,  30,  34, 143,   4,  87,  11,  14,\n",
       "         88, 393, 243,  62, 105,  47,  40,   3,  62,  33, 520, 144, 316, 364,\n",
       "         83,  12, 323,  45, 235,  66, 169,   7, 357, 197, 171, 251,  21,  66,\n",
       "        346, 398, 671, 130, 105, 508,  93,  14,  14,  83,  31, 112, 333, 185,\n",
       "        434, 360, 123, 112, 318, 497,  65, 245,  69, 147,  28, 145,  36,  59,\n",
       "         55, 164])"
      ]
     },
     "execution_count": 27,
     "metadata": {},
     "output_type": "execute_result"
    }
   ],
   "source": [
    "idle_duration"
   ]
  },
  {
   "cell_type": "code",
   "execution_count": 42,
   "metadata": {},
   "outputs": [],
   "source": [
    "drivers = torch.cat((idle_starttime.unsqueeze(1), idle_duration.unsqueeze(1), driver_positions), 1)"
   ]
  },
  {
   "cell_type": "markdown",
   "metadata": {},
   "source": [
    "### test py code"
   ]
  },
  {
   "cell_type": "code",
   "execution_count": 3,
   "metadata": {},
   "outputs": [],
   "source": [
    "T0_pricing_params = (5, 0.78, 1.82)\n",
    "lr = 0.01\n",
    "simulation_week1 = WeeklySimulation(lr, T0_pricing_params)"
   ]
  },
  {
   "cell_type": "code",
   "execution_count": 4,
   "metadata": {},
   "outputs": [],
   "source": [
    "drivers_week1_S0 = simulation_week1.simulate_drivers()"
   ]
  },
  {
   "cell_type": "code",
   "execution_count": 5,
   "metadata": {},
   "outputs": [
    {
     "data": {
      "text/plain": [
       "torch.Size([100, 5])"
      ]
     },
     "execution_count": 5,
     "metadata": {},
     "output_type": "execute_result"
    }
   ],
   "source": [
    "drivers_week1_S0.size()"
   ]
  },
  {
   "cell_type": "code",
   "execution_count": 6,
   "metadata": {},
   "outputs": [
    {
     "data": {
      "text/plain": [
       "tensor([1.2600e+03, 9.8000e+01, 9.8811e-01, 1.5567e-01, 0.0000e+00])"
      ]
     },
     "execution_count": 6,
     "metadata": {},
     "output_type": "execute_result"
    }
   ],
   "source": [
    "drivers_week1_S0[0]"
   ]
  },
  {
   "cell_type": "code",
   "execution_count": 8,
   "metadata": {},
   "outputs": [
    {
     "data": {
      "text/plain": [
       "tensor([14,  2,  9,  1, 13, 10,  8, 13,  7,  0,  5,  8,  3,  1,  7,  3,  6,  3,\n",
       "         7,  1,  8,  2,  9, 11,  5,  7, 13, 11,  4,  6,  4,  0,  6,  7, 11,  1,\n",
       "        12, 12, 14, 15,  0, 14,  3, 13,  9,  1, 13,  4,  0, 13,  1, 12, 15,  6,\n",
       "         0,  2,  6,  0,  2,  8,  2, 13, 15,  8,  5, 12, 11,  8,  1,  0,  4, 11,\n",
       "        11,  3, 12,  9, 15,  6,  0,  3,  0,  1,  8,  4,  2,  8,  9,  9, 12,  6,\n",
       "         6, 11,  3,  3,  9,  2,  9, 12,  0,  7], dtype=torch.int32)"
      ]
     },
     "execution_count": 8,
     "metadata": {},
     "output_type": "execute_result"
    }
   ],
   "source": [
    "simulation_week1.get_subblock_index(drivers_week1_S0[:, 2], drivers_week1_S0[:, 3])"
   ]
  },
  {
   "cell_type": "code",
   "execution_count": null,
   "metadata": {},
   "outputs": [],
   "source": []
  },
  {
   "cell_type": "markdown",
   "metadata": {},
   "source": [
    "### TODO - \n",
    "### since in each request has to be matched to an idle driver within the same sub-block, maybe we don't need to update the driver's location after finishing the trip(to avoid loops).\n",
    "### the problem is for those trips that cannot be finished within each 30-min interval\n",
    "\n",
    "\n",
    "### matching - for every 30-min interval, iterate through each sub-block, for rider requests mask on the timestamp and the sub-block id; for drivers, mask on idle(not in busy_drivers and current timestamp within [idle_start_time, idle_start_time+idle_duration]) and sub-block id, randomly pick a valid driver(if no valid driver, cancel the request right away), do the match(acceptance prob. for both parties) and add the current driver and the trip end timestamp to the busy_drivers hashmap.\n",
    "\n",
    "\n",
    "\n",
    "\n",
    "### if there are so many requests not able to find even a valid driver, may consider add more total drivers.\n",
    "\n",
    "### how M0 impacts S1\n",
    "\n",
    "### may still sample idle position and idle time every day and match every 30mins.\n",
    "### a driver's reject may change the driver's mean_idle_time(for exp var to sample idle time), may or may not affect driver's initial position for the next day"
   ]
  },
  {
   "cell_type": "code",
   "execution_count": null,
   "metadata": {},
   "outputs": [],
   "source": []
  },
  {
   "cell_type": "markdown",
   "metadata": {},
   "source": [
    "### take vectors of riders and drivers and get their location's sub-block ids"
   ]
  },
  {
   "cell_type": "code",
   "execution_count": 7,
   "metadata": {},
   "outputs": [],
   "source": [
    "a_r = 1.0  # Rider acceptance probability parameter\n",
    "b_r = -0.1  # Rider acceptance probability parameter\n",
    "a_d = 1.0  # Driver acceptance probability parameter\n",
    "b_d = -0.05  # Driver acceptance probability parameter\n",
    "pricing_params = T0_pricing_params"
   ]
  },
  {
   "cell_type": "code",
   "execution_count": 50,
   "metadata": {},
   "outputs": [],
   "source": [
    "num_riders = 10"
   ]
  },
  {
   "cell_type": "code",
   "execution_count": 51,
   "metadata": {},
   "outputs": [],
   "source": [
    "commuter_percentage, party_goer_percentage, sporadic_rider_percentage = 0.25, 0.25, 0.25"
   ]
  },
  {
   "cell_type": "code",
   "execution_count": 4,
   "metadata": {},
   "outputs": [],
   "source": [
    "drivers_week1_d0 = simulation_week1.simulate_supply()"
   ]
  },
  {
   "cell_type": "code",
   "execution_count": 5,
   "metadata": {},
   "outputs": [],
   "source": [
    "requests_week1_d0 = simulation_week1.simulate_demand()"
   ]
  },
  {
   "cell_type": "code",
   "execution_count": 6,
   "metadata": {},
   "outputs": [
    {
     "data": {
      "text/plain": [
       "(torch.Size([100, 6]), torch.Size([1101, 8]))"
      ]
     },
     "execution_count": 6,
     "metadata": {},
     "output_type": "execute_result"
    }
   ],
   "source": [
    "drivers_week1_d0.size(), requests_week1_d0.size()"
   ]
  },
  {
   "cell_type": "code",
   "execution_count": 7,
   "metadata": {},
   "outputs": [
    {
     "data": {
      "text/plain": [
       "tensor([1.0800e+03, 5.6300e+02, 5.3787e-01, 3.8972e-01, 0.0000e+00, 9.0000e+00])"
      ]
     },
     "execution_count": 7,
     "metadata": {},
     "output_type": "execute_result"
    }
   ],
   "source": [
    "#(num_drivers) * (idle_start_time_timestamps, idle_duration, idle_start_x, idle_start_y, driver_idx, idle_start_subblock_id)\n",
    "drivers_week1_d0[0]"
   ]
  },
  {
   "cell_type": "code",
   "execution_count": 8,
   "metadata": {},
   "outputs": [
    {
     "data": {
      "text/plain": [
       "tensor([4.2997e+02, 6.7464e-01, 6.8649e-01, 6.3967e-01, 4.8825e-02, 1.0000e+00,\n",
       "        1.0000e+01, 8.0000e+00])"
      ]
     },
     "execution_count": 8,
     "metadata": {},
     "output_type": "execute_result"
    }
   ],
   "source": [
    "#(num_requests) * (request_timestamps, req_start_x, req_start_y, req_end_x, req_end_y, rider_idx, req_start_subblock_id, req_end_subblock_id)\n",
    "requests_week1_d0[0]"
   ]
  },
  {
   "cell_type": "markdown",
   "metadata": {},
   "source": [
    "### Concerns in the ride:\n",
    "### - a rider could have two rides during the morning rush hours(not sure if it makes sense), easier for vector initilization\n",
    "\n",
    "### Concerns in matching:\n",
    "### - need to iterate through every rider in the given time interval and the sub-block is both rider and driver are valid\n",
    "\n",
    "### - to update a driver's location and idle status need to do indexing on the drivers vector and drop every driver who is on a trip when iterating through the requests(but num_drivers is quite small)\n",
    "\n",
    "### - often times, for a given time interval and sub-block, there are much less valid drivers the requests.\n",
    "\n",
    "### after we set the driver to busy for a matched trip, how do we reset the driver's status back to 0(need an extra variable for the trip finishing timestamp), but the problem is that since we match every 30mins, what happens in between we couldn't capture. (could change idle_start_time and idle_duration accordingly)\n",
    "\n",
    "### if a driver start at sub-block 0 during t=0 then finish a trip and now live in sub-block 10 during t=10, it will be a valid driver in only at sub-block 0 since we do the matching every 30mins(could have a shorter time interval but will increase runtime)\n",
    "\n",
    "\n",
    "### to update num_rejects for a rider, a rider could have requests in the same interval for different sub-blocks (shouldn't be a big concern as we need only a vector of (num_riders)*1)"
   ]
  },
  {
   "cell_type": "code",
   "execution_count": 18,
   "metadata": {},
   "outputs": [
    {
     "name": "stdout",
     "output_type": "stream",
     "text": [
      "at least one rider request in this sub-block:0\n",
      "at least one rider request in this sub-block:0\n"
     ]
    }
   ],
   "source": [
    "#num_squares = 4\n",
    "# for square_index in range(num_squares ** 2): \n",
    "\n",
    "match_interval_time = 30\n",
    "for interval_idx, match_interval in enumerate(range(0, 24*60-1, match_interval_time)):\n",
    "    for square_index in range(1):\n",
    "        #replace idle_status_mask with checking on the idle_time\n",
    "        #idle_status_mask = drivers_week1_d0[:, 6]==0\n",
    "        idle_time_mask_left = drivers_week1_d0[:, 0]<(interval_idx+1)*match_interval_time\n",
    "        idle_time_mask_right = interval_idx*match_interval_time<=drivers_week1_d0[:, 0]+drivers_week1_d0[:, 1]\n",
    "        idle_location_mask = drivers_week1_d0[:, 5]==square_index\n",
    "\n",
    "        drivers_subblock = drivers_week1_d0[idle_time_mask_left & idle_time_mask_right & idle_location_mask]\n",
    "\n",
    "\n",
    "        # if len(drivers_subblock)==0:\n",
    "        #     #print(f'no idle driver in this sub-block:{square_index}')\n",
    "        #     continue\n",
    "        # else:\n",
    "        #     print(f'at least one idle driver in this sub-block:{square_index}')\n",
    "\n",
    "\n",
    "        request_time_mask_left = interval_idx*match_interval_time<=riders_week1_d0[:, 0]\n",
    "        request_time_mask_right = riders_week1_d0[:, 0]<(interval_idx+1)*match_interval_time\n",
    "        request_location_mask = riders_week1_d0[:, 6]==square_index\n",
    "\n",
    "        riders_subblock = riders_week1_d0[request_time_mask_left & request_time_mask_right \\\n",
    "                                         & request_location_mask]\n",
    "        \n",
    "        if len(riders_subblock)==0:\n",
    "            #print(f'no idle driver in this sub-block:{square_index}')\n",
    "            continue\n",
    "        else:\n",
    "            print(f'at least one rider request in this sub-block:{square_index}')\n",
    "\n",
    "        #have to iterate through every rider in the given time interval and the sub-block is both rider and driver are valid\n",
    "\n",
    "        for valid_request_id in range(riders_subblock.shape[0]):\n",
    "            valid_driver = drivers_subblock.shape[0]\n",
    "            selected_driver = drivers_subblock[torch.randint(0, valid_driver, (1,)).item()] if valid_driver>1 else drivers_subblock\n",
    "\n",
    "            ride_minutes, ride_miles = simulation_week1.estimate_trip_distance_duration(riders_subblock[valid_request_id][1:5])\n",
    "            price_of_ride = pricing_params[0] + pricing_params[1] * ride_minutes + pricing_params[2] * ride_miles\n",
    "\n",
    "\n",
    "            rider_acceptance_prob = torch.sigmoid(a_r + b_r * price_of_ride)\n",
    "            driver_acceptance_prob = torch.sigmoid(a_d + b_d * price_of_ride)\n",
    "\n",
    "            # Determine if the ride is accepted by both rider and driver\n",
    "            rider_acceptance_generator = np.random.rand()\n",
    "            driver_acceptance_generator = np.random.rand()\n",
    "            if rider_acceptance_generator < rider_acceptance_prob and driver_acceptance_generator < driver_acceptance_prob:\n",
    "                        driver_idx = selected_driver[4]\n",
    "                        #remove the current busy driver in drivers_subblock\n",
    "                        drivers_subblock = drivers_subblock[drivers_subblock[:, 4]!=driver_idx]\n",
    "                        if len(drivers_subblock)==0:\n",
    "                             #no more valid drivers, exit the loop right away\n",
    "                             break\n",
    "                        #update driver's idle sub-block id to the trip destination\n",
    "                        drivers[driver_idx][5]==riders_subblock[valid_request_id][7]\n",
    "\n",
    "                        #update their idle_start_timestamp to request_time+trip_duration \n",
    "                        prev_idle_start_timestamp = drivers[driver_idx][0]\n",
    "                        drivers[driver_idx][0] = riders_subblock[valid_request_id][0] + ride_minutes\n",
    "                        #update idle_duration to the original idle_duration minus how much time has passed since the previous idle_start_timestamp to new idle_start_timestamp, (no negative values)\n",
    "                        drivers[driver_idx][1] = max(0, drivers[driver_idx][1] - drivers[driver_idx][0] - prev_idle_start_timestamp)\n",
    "\n",
    "\n",
    "                \n",
    "\n",
    "            elif rider_acceptance_generator >= rider_acceptance_prob:\n",
    "                #TODO - update rider_rejects vector\n",
    "                pass\n",
    "\n",
    "\n",
    "            elif driver_acceptance_generator >= driver_acceptance_prob:\n",
    "                #TODO - update driver_rejects vector\n",
    "                pass\n",
    "        \n",
    "    if len(riders_subblock)!=0 and len(drivers_subblock)!=0:\n",
    "        #print(f'no idle driver in this sub-block:{square_index}')\n",
    "        break\n",
    "    "
   ]
  },
  {
   "cell_type": "code",
   "execution_count": null,
   "metadata": {},
   "outputs": [],
   "source": []
  },
  {
   "cell_type": "code",
   "execution_count": 19,
   "metadata": {},
   "outputs": [
    {
     "data": {
      "text/plain": [
       "tensor([3.8136e+02, 1.3637e-01, 1.0591e-01, 9.4807e-01, 6.7556e-01, 4.0000e+01,\n",
       "        0.0000e+00, 1.4000e+01])"
      ]
     },
     "execution_count": 19,
     "metadata": {},
     "output_type": "execute_result"
    }
   ],
   "source": [
    "riders_subblock[0]"
   ]
  },
  {
   "cell_type": "code",
   "execution_count": 24,
   "metadata": {},
   "outputs": [
    {
     "data": {
      "text/plain": [
       "torch.Size([2, 8])"
      ]
     },
     "execution_count": 24,
     "metadata": {},
     "output_type": "execute_result"
    }
   ],
   "source": [
    "riders_subblock.size()"
   ]
  },
  {
   "cell_type": "code",
   "execution_count": 23,
   "metadata": {},
   "outputs": [
    {
     "data": {
      "text/plain": [
       "tensor([[3.8136e+02, 1.3637e-01, 1.0591e-01, 9.4807e-01, 6.7556e-01, 4.0000e+01,\n",
       "         0.0000e+00, 1.4000e+01],\n",
       "        [3.7952e+02, 9.3346e-02, 8.6899e-02, 6.8988e-01, 2.7311e-01, 1.8100e+02,\n",
       "         0.0000e+00, 9.0000e+00]])"
      ]
     },
     "execution_count": 23,
     "metadata": {},
     "output_type": "execute_result"
    }
   ],
   "source": [
    "riders_subblock"
   ]
  },
  {
   "cell_type": "code",
   "execution_count": 22,
   "metadata": {},
   "outputs": [
    {
     "data": {
      "text/plain": [
       "tensor([[3.8136e+02, 1.3637e-01, 1.0591e-01, 9.4807e-01, 6.7556e-01, 4.0000e+01,\n",
       "         0.0000e+00, 1.4000e+01],\n",
       "        [3.7952e+02, 9.3346e-02, 8.6899e-02, 6.8988e-01, 2.7311e-01, 1.8100e+02,\n",
       "         0.0000e+00, 9.0000e+00]])"
      ]
     },
     "execution_count": 22,
     "metadata": {},
     "output_type": "execute_result"
    }
   ],
   "source": [
    "riders_subblock[riders_subblock[:, 4]!=1]"
   ]
  },
  {
   "cell_type": "code",
   "execution_count": 58,
   "metadata": {},
   "outputs": [
    {
     "data": {
      "text/plain": [
       "tensor([4.2000e+02, 3.0200e+02, 2.4768e-01, 1.5847e-02, 0.0000e+00, 0.0000e+00])"
      ]
     },
     "execution_count": 58,
     "metadata": {},
     "output_type": "execute_result"
    }
   ],
   "source": [
    "drivers_subblock[0]"
   ]
  },
  {
   "cell_type": "code",
   "execution_count": 63,
   "metadata": {},
   "outputs": [],
   "source": [
    "valid_driver = drivers_subblock.shape[0]\n",
    "selected_driver = drivers_subblock[torch.randint(0, valid_driver, (1,)).item()] if valid_driver>1 else drivers_subblock"
   ]
  },
  {
   "cell_type": "code",
   "execution_count": 64,
   "metadata": {},
   "outputs": [
    {
     "data": {
      "text/plain": [
       "tensor([[4.2000e+02, 3.0200e+02, 2.4768e-01, 1.5847e-02, 0.0000e+00, 0.0000e+00]])"
      ]
     },
     "execution_count": 64,
     "metadata": {},
     "output_type": "execute_result"
    }
   ],
   "source": [
    "selected_driver"
   ]
  },
  {
   "cell_type": "code",
   "execution_count": 16,
   "metadata": {},
   "outputs": [
    {
     "ename": "NameError",
     "evalue": "name 'riders_subblock' is not defined",
     "output_type": "error",
     "traceback": [
      "\u001b[0;31m---------------------------------------------------------------------------\u001b[0m",
      "\u001b[0;31mNameError\u001b[0m                                 Traceback (most recent call last)",
      "Cell \u001b[0;32mIn[16], line 1\u001b[0m\n\u001b[0;32m----> 1\u001b[0m \u001b[43mriders_subblock\u001b[49m\n",
      "\u001b[0;31mNameError\u001b[0m: name 'riders_subblock' is not defined"
     ]
    }
   ],
   "source": [
    "riders_subblock"
   ]
  },
  {
   "cell_type": "code",
   "execution_count": null,
   "metadata": {},
   "outputs": [],
   "source": []
  },
  {
   "cell_type": "code",
   "execution_count": 63,
   "metadata": {},
   "outputs": [],
   "source": [
    "alphas_commuters = torch.ones(int(num_riders * commuter_percentage * 2), ) * 1.5\n",
    "betas_commuters = torch.ones(int(num_riders * commuter_percentage * 2), ) * 1.5\n",
    "alphas_party_goers = torch.ones(int(num_riders * party_goer_percentage), ) * 0.75\n",
    "betas_party_goers = torch.ones(int(num_riders * party_goer_percentage), ) * 0.75\n",
    "alphas_sporadic = torch.ones(int(num_riders * sporadic_rider_percentage), ) * 0.75\n",
    "betas_sporadic = torch.ones(int(num_riders * sporadic_rider_percentage), ) * 0.75\n"
   ]
  },
  {
   "cell_type": "code",
   "execution_count": 71,
   "metadata": {},
   "outputs": [],
   "source": [
    "beta_riders = torch.cat([\n",
    "    betas_commuters,\n",
    "    betas_party_goers,\n",
    "    betas_sporadic\n",
    "])"
   ]
  },
  {
   "cell_type": "code",
   "execution_count": 72,
   "metadata": {},
   "outputs": [
    {
     "data": {
      "text/plain": [
       "tensor([1.5000, 1.5000, 1.5000, 1.5000, 1.5000, 0.7500, 0.7500, 2.0000, 1.0000])"
      ]
     },
     "execution_count": 72,
     "metadata": {},
     "output_type": "execute_result"
    }
   ],
   "source": [
    "beta_riders"
   ]
  },
  {
   "cell_type": "code",
   "execution_count": 64,
   "metadata": {},
   "outputs": [],
   "source": [
    "gamma_dist_commuters = torch.distributions.Gamma(alphas_commuters, betas_commuters)\n",
    "gamma_dist_party_goers = torch.distributions.Gamma(alphas_party_goers, betas_party_goers)\n",
    "gamma_dist_sporadic = torch.distributions.Gamma(alphas_sporadic, betas_sporadic)\n"
   ]
  },
  {
   "cell_type": "code",
   "execution_count": 65,
   "metadata": {},
   "outputs": [],
   "source": [
    "lambda_riders = torch.cat([\n",
    "    gamma_dist_commuters.sample(),\n",
    "    gamma_dist_party_goers.sample(),\n",
    "    gamma_dist_sporadic.sample()\n",
    "])"
   ]
  },
  {
   "cell_type": "code",
   "execution_count": 61,
   "metadata": {},
   "outputs": [
    {
     "data": {
      "text/plain": [
       "tensor([0.3423, 1.3083, 0.5971, 0.4102, 2.1167, 1.8451, 0.2329, 0.0061, 0.0694])"
      ]
     },
     "execution_count": 61,
     "metadata": {},
     "output_type": "execute_result"
    }
   ],
   "source": [
    "lambda_riders"
   ]
  },
  {
   "cell_type": "code",
   "execution_count": 73,
   "metadata": {},
   "outputs": [],
   "source": [
    "num_requests = torch.zeros(10, )\n",
    "num_requests[0]+=1"
   ]
  },
  {
   "cell_type": "code",
   "execution_count": 74,
   "metadata": {},
   "outputs": [
    {
     "data": {
      "text/plain": [
       "tensor([1., 0., 0., 0., 0., 0., 0., 0., 0., 0.])"
      ]
     },
     "execution_count": 74,
     "metadata": {},
     "output_type": "execute_result"
    }
   ],
   "source": [
    "num_requests"
   ]
  },
  {
   "cell_type": "code",
   "execution_count": 75,
   "metadata": {},
   "outputs": [],
   "source": [
    "test_indices = torch.arange(10)\n",
    "test_mask1 = test_indices < 2"
   ]
  },
  {
   "cell_type": "code",
   "execution_count": 76,
   "metadata": {},
   "outputs": [
    {
     "data": {
      "text/plain": [
       "tensor([1., 0.])"
      ]
     },
     "execution_count": 76,
     "metadata": {},
     "output_type": "execute_result"
    }
   ],
   "source": [
    "num_requests[test_mask1]"
   ]
  },
  {
   "cell_type": "code",
   "execution_count": 78,
   "metadata": {},
   "outputs": [],
   "source": [
    "betas_test = torch.zeros(2, )"
   ]
  },
  {
   "cell_type": "code",
   "execution_count": 79,
   "metadata": {},
   "outputs": [],
   "source": [
    "betas_test += num_requests[test_mask1]"
   ]
  },
  {
   "cell_type": "code",
   "execution_count": 81,
   "metadata": {},
   "outputs": [
    {
     "data": {
      "text/plain": [
       "tensor([1., 0.])"
      ]
     },
     "execution_count": 81,
     "metadata": {},
     "output_type": "execute_result"
    }
   ],
   "source": [
    "betas_test"
   ]
  },
  {
   "cell_type": "code",
   "execution_count": null,
   "metadata": {},
   "outputs": [],
   "source": []
  }
 ],
 "metadata": {
  "kernelspec": {
   "display_name": "ride_sim",
   "language": "python",
   "name": "python3"
  },
  "language_info": {
   "codemirror_mode": {
    "name": "ipython",
    "version": 3
   },
   "file_extension": ".py",
   "mimetype": "text/x-python",
   "name": "python",
   "nbconvert_exporter": "python",
   "pygments_lexer": "ipython3",
   "version": "3.9.19"
  }
 },
 "nbformat": 4,
 "nbformat_minor": 2
}
