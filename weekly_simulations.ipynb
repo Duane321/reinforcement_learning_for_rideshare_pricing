{
 "cells": [
  {
   "cell_type": "code",
   "execution_count": 8,
   "metadata": {},
   "outputs": [],
   "source": [
    "import torch\n",
    "import math\n",
    "import numpy as np\n",
    "import json\n",
    "import matplotlib.pyplot as plt\n",
    "from tqdm import tqdm\n",
    "import pandas as pd"
   ]
  },
  {
   "cell_type": "code",
   "execution_count": 2,
   "metadata": {},
   "outputs": [],
   "source": [
    "from ridesharing_simulation import *"
   ]
  },
  {
   "cell_type": "code",
   "execution_count": 3,
   "metadata": {},
   "outputs": [],
   "source": [
    "start_week = 0\n",
    "T0_pricing_params = (5, 0.78, 1.82)\n",
    "lr = 0.01"
   ]
  },
  {
   "cell_type": "code",
   "execution_count": null,
   "metadata": {},
   "outputs": [],
   "source": [
    "#simulation_week1 = WeeklySimulation(start_week, lr, T0_pricing_params)"
   ]
  },
  {
   "cell_type": "code",
   "execution_count": null,
   "metadata": {},
   "outputs": [],
   "source": []
  },
  {
   "cell_type": "code",
   "execution_count": 4,
   "metadata": {},
   "outputs": [],
   "source": [
    "demand_columns = [\"request_timestamp\", \"x_start\", \"y_start\", \"x_end\", \"y_end\"\n",
    "                    , \"rider_idx\", \"trip_start_subblock_id\", \"trip_end_subblock_id\"]"
   ]
  },
  {
   "cell_type": "code",
   "execution_count": 5,
   "metadata": {},
   "outputs": [],
   "source": [
    "supply_columns = [\"idle_start_timestamp\", \"idle_duration\", \"idle_x_start\", \"idle_y_start\"\n",
    "                   , \"driver_idx\", \"idle_start_subblock_id\"]"
   ]
  },
  {
   "cell_type": "code",
   "execution_count": 7,
   "metadata": {},
   "outputs": [
    {
     "name": "stderr",
     "output_type": "stream",
     "text": [
      "100%|██████████| 1/1 [00:01<00:00,  1.19s/it]\n"
     ]
    }
   ],
   "source": [
    "total_weeks = 1\n",
    "\n",
    "stdout_logger = utils.create_logger_custom(\"weekly_daily_main_function\")\n",
    "\n",
    "for w in tqdm(range(total_weeks)):\n",
    "    simulation_this_week = WeeklySimulation(w, lr, T0_pricing_params)\n",
    "    for d in range(7):\n",
    "        drivers_this_week_today = simulation_this_week.simulate_supply()\n",
    "        requests_this_week_today = simulation_this_week.simulate_demand()\n",
    "\n",
    "        lst1 = []\n",
    "        for row in simulation_this_week.D_Requests:\n",
    "            row_dict = {demand_columns[i]: row[i].item() for i in range(row.size(0))}\n",
    "            lst1.append(row_dict)\n",
    "\n",
    "        # Save each dictionary as a JSON object in a JSON file\n",
    "        with open('data/10_weeks/demand_week_'+str(w)+'.json', 'w') as json_file:\n",
    "            json.dump(lst1, json_file, indent=4)\n",
    "\n",
    "        lst2 = []\n",
    "        for row in simulation_this_week.S_Drivers:\n",
    "            row_dict = {supply_columns[i]: row[i].item() for i in range(row.size(0))}\n",
    "            lst2.append(row_dict)\n",
    "\n",
    "        # Save each dictionary as a JSON object in a JSON file\n",
    "        with open('data/10_weeks/supply_week_'+str(w)+'.json', 'w') as json_file:\n",
    "            json.dump(lst2, json_file, indent=4)\n",
    "\n",
    "        simulation_this_week.request_driver_matching(verbose=1)\n",
    "        simulation_this_week.update_gamma_distns()\n",
    "        std_out_entry = {\n",
    "            \"week\": w,\n",
    "            \"day\": d,\n",
    "            \"drivers_size\": list(drivers_this_week_today.size()),\n",
    "            \"requests_size\": list(requests_this_week_today.size())\n",
    "        }\n",
    "        stdout_logger.debug(json.dumps(std_out_entry))"
   ]
  },
  {
   "cell_type": "code",
   "execution_count": 9,
   "metadata": {},
   "outputs": [],
   "source": [
    "week0_trips_log_df = pd.read_json(\"data/10_weeks/logfile_matched_trips_week_0.log\", lines=True)"
   ]
  },
  {
   "cell_type": "code",
   "execution_count": 11,
   "metadata": {},
   "outputs": [],
   "source": [
    "week0_demand_log_df = pd.read_json(\"data/10_weeks/demand_week_0.json\")\n",
    "week0_supply_log_df = pd.read_json(\"data/10_weeks/supply_week_0.json\")"
   ]
  },
  {
   "cell_type": "code",
   "execution_count": 12,
   "metadata": {},
   "outputs": [],
   "source": [
    "week0_trips_log_df.to_csv(\"data/10_weeks/matched_trips_week_0.csv\", index=False)\n",
    "week0_demand_log_df.to_csv(\"data/10_weeks/demand_week_0.csv\", index=False)\n",
    "week0_supply_log_df.to_csv(\"data/10_weeks/supply_week_0.csv\", index=False)"
   ]
  },
  {
   "cell_type": "code",
   "execution_count": null,
   "metadata": {},
   "outputs": [],
   "source": []
  },
  {
   "cell_type": "code",
   "execution_count": null,
   "metadata": {},
   "outputs": [],
   "source": []
  },
  {
   "cell_type": "markdown",
   "metadata": {},
   "source": [
    "### It takes ~0.3sec per week, so ~3000(0.8hr) secs for 10K weeks, but as we have more rounds, the multiple increases\n",
    "### remember to delete previous log files before rerunning a new simulation"
   ]
  },
  {
   "cell_type": "code",
   "execution_count": null,
   "metadata": {},
   "outputs": [],
   "source": []
  },
  {
   "cell_type": "code",
   "execution_count": 5,
   "metadata": {},
   "outputs": [
    {
     "name": "stderr",
     "output_type": "stream",
     "text": [
      "100%|██████████| 100/100 [00:29<00:00,  3.36it/s]\n"
     ]
    }
   ],
   "source": [
    "total_weeks = 100\n",
    "\n",
    "for w in tqdm(range(total_weeks)):\n",
    "    simulation_this_week = WeeklySimulation(w, lr, T0_pricing_params)\n",
    "    for d in range(7):\n",
    "        drivers_this_week_today = simulation_this_week.simulate_supply()\n",
    "        requests_this_week_today = simulation_this_week.simulate_demand()\n",
    "        simulation_this_week.request_driver_matching()\n",
    "        simulation_this_week.update_gamma_distns()"
   ]
  },
  {
   "cell_type": "code",
   "execution_count": 6,
   "metadata": {},
   "outputs": [
    {
     "name": "stderr",
     "output_type": "stream",
     "text": [
      "100%|██████████| 1000/1000 [06:34<00:00,  2.53it/s]\n"
     ]
    }
   ],
   "source": [
    "total_weeks = 1000\n",
    "\n",
    "for w in tqdm(range(total_weeks)):\n",
    "    simulation_this_week = WeeklySimulation(w, lr, T0_pricing_params)\n",
    "    for d in range(7):\n",
    "        drivers_this_week_today = simulation_this_week.simulate_supply()\n",
    "        requests_this_week_today = simulation_this_week.simulate_demand()\n",
    "        simulation_this_week.request_driver_matching()\n",
    "        simulation_this_week.update_gamma_distns()"
   ]
  },
  {
   "cell_type": "code",
   "execution_count": null,
   "metadata": {},
   "outputs": [],
   "source": []
  },
  {
   "cell_type": "code",
   "execution_count": null,
   "metadata": {},
   "outputs": [],
   "source": []
  },
  {
   "cell_type": "code",
   "execution_count": null,
   "metadata": {},
   "outputs": [],
   "source": []
  },
  {
   "cell_type": "code",
   "execution_count": null,
   "metadata": {},
   "outputs": [],
   "source": []
  },
  {
   "cell_type": "code",
   "execution_count": null,
   "metadata": {},
   "outputs": [],
   "source": []
  },
  {
   "cell_type": "code",
   "execution_count": null,
   "metadata": {},
   "outputs": [],
   "source": []
  },
  {
   "cell_type": "code",
   "execution_count": null,
   "metadata": {},
   "outputs": [],
   "source": []
  }
 ],
 "metadata": {
  "kernelspec": {
   "display_name": "ride_sim",
   "language": "python",
   "name": "python3"
  },
  "language_info": {
   "codemirror_mode": {
    "name": "ipython",
    "version": 3
   },
   "file_extension": ".py",
   "mimetype": "text/x-python",
   "name": "python",
   "nbconvert_exporter": "python",
   "pygments_lexer": "ipython3",
   "version": "3.9.19"
  }
 },
 "nbformat": 4,
 "nbformat_minor": 2
}
