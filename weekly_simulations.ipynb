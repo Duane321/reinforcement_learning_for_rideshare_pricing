{
 "cells": [
  {
   "cell_type": "code",
   "execution_count": 1,
   "metadata": {},
   "outputs": [],
   "source": [
    "import torch\n",
    "import math\n",
    "import numpy as np\n",
    "import json\n",
    "import matplotlib.pyplot as plt\n",
    "from tqdm import tqdm"
   ]
  },
  {
   "cell_type": "code",
   "execution_count": 2,
   "metadata": {},
   "outputs": [],
   "source": [
    "from ridesharing_simulation import *"
   ]
  },
  {
   "cell_type": "code",
   "execution_count": 3,
   "metadata": {},
   "outputs": [],
   "source": [
    "start_week = 0\n",
    "T0_pricing_params = (5, 0.78, 1.82)\n",
    "lr = 0.01"
   ]
  },
  {
   "cell_type": "code",
   "execution_count": null,
   "metadata": {},
   "outputs": [],
   "source": [
    "#simulation_week1 = WeeklySimulation(start_week, lr, T0_pricing_params)"
   ]
  },
  {
   "cell_type": "code",
   "execution_count": 4,
   "metadata": {},
   "outputs": [
    {
     "name": "stderr",
     "output_type": "stream",
     "text": [
      "100%|██████████| 10/10 [00:03<00:00,  3.02it/s]\n"
     ]
    }
   ],
   "source": [
    "total_weeks = 10\n",
    "\n",
    "stdout_logger = utils.create_logger_custom(\"weekly_daily_main_function\")\n",
    "\n",
    "for w in tqdm(range(total_weeks)):\n",
    "    simulation_this_week = WeeklySimulation(w, lr, T0_pricing_params)\n",
    "    for d in range(7):\n",
    "        drivers_this_week_today = simulation_this_week.simulate_supply()\n",
    "        requests_this_week_today = simulation_this_week.simulate_demand()\n",
    "        simulation_this_week.request_driver_matching()\n",
    "        simulation_this_week.update_gamma_distns()\n",
    "        std_out_entry = {\n",
    "            \"week\": w,\n",
    "            \"day\": d,\n",
    "            \"drivers_size\": list(drivers_this_week_today.size()),\n",
    "            \"requests_size\": list(requests_this_week_today.size())\n",
    "        }\n",
    "        stdout_logger.debug(json.dumps(std_out_entry))"
   ]
  },
  {
   "cell_type": "markdown",
   "metadata": {},
   "source": [
    "### It takes ~0.3sec per week, so ~3000(0.8hr) secs for 10K weeks\n",
    "### remember delete previous log files before rerunning a new simulation"
   ]
  },
  {
   "cell_type": "code",
   "execution_count": null,
   "metadata": {},
   "outputs": [],
   "source": []
  },
  {
   "cell_type": "code",
   "execution_count": null,
   "metadata": {},
   "outputs": [],
   "source": []
  },
  {
   "cell_type": "code",
   "execution_count": null,
   "metadata": {},
   "outputs": [],
   "source": []
  },
  {
   "cell_type": "code",
   "execution_count": null,
   "metadata": {},
   "outputs": [],
   "source": []
  },
  {
   "cell_type": "code",
   "execution_count": null,
   "metadata": {},
   "outputs": [],
   "source": []
  }
 ],
 "metadata": {
  "kernelspec": {
   "display_name": "ride_sim",
   "language": "python",
   "name": "python3"
  },
  "language_info": {
   "codemirror_mode": {
    "name": "ipython",
    "version": 3
   },
   "file_extension": ".py",
   "mimetype": "text/x-python",
   "name": "python",
   "nbconvert_exporter": "python",
   "pygments_lexer": "ipython3",
   "version": "3.9.19"
  }
 },
 "nbformat": 4,
 "nbformat_minor": 2
}
