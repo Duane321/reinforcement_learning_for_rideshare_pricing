{
 "cells": [
  {
   "cell_type": "code",
   "execution_count": 1,
   "metadata": {},
   "outputs": [],
   "source": [
    "import torch\n",
    "import math\n",
    "import numpy as np\n",
    "import json\n",
    "import matplotlib.pyplot as plt"
   ]
  },
  {
   "cell_type": "code",
   "execution_count": 2,
   "metadata": {},
   "outputs": [],
   "source": [
    "from ridesharing_simulation import *"
   ]
  },
  {
   "cell_type": "code",
   "execution_count": 3,
   "metadata": {},
   "outputs": [],
   "source": [
    "T0_pricing_params = (5, 0.78, 1.82)\n",
    "lr = 0.01\n",
    "simulation_week1 = WeeklySimulation(lr, T0_pricing_params)"
   ]
  },
  {
   "cell_type": "code",
   "execution_count": null,
   "metadata": {},
   "outputs": [],
   "source": []
  },
  {
   "cell_type": "code",
   "execution_count": null,
   "metadata": {},
   "outputs": [],
   "source": []
  },
  {
   "cell_type": "code",
   "execution_count": 4,
   "metadata": {},
   "outputs": [],
   "source": [
    "drivers_week1_d0 = simulation_week1.simulate_supply()"
   ]
  },
  {
   "cell_type": "code",
   "execution_count": 5,
   "metadata": {},
   "outputs": [],
   "source": [
    "requests_week1_d0 = simulation_week1.simulate_demand()"
   ]
  },
  {
   "cell_type": "code",
   "execution_count": 6,
   "metadata": {},
   "outputs": [
    {
     "data": {
      "text/plain": [
       "(torch.Size([100, 6]), torch.Size([981, 8]))"
      ]
     },
     "execution_count": 6,
     "metadata": {},
     "output_type": "execute_result"
    }
   ],
   "source": [
    "drivers_week1_d0.size(), requests_week1_d0.size()"
   ]
  },
  {
   "cell_type": "code",
   "execution_count": 7,
   "metadata": {},
   "outputs": [
    {
     "name": "stderr",
     "output_type": "stream",
     "text": [
      "0it [00:00, ?it/s]"
     ]
    },
    {
     "name": "stderr",
     "output_type": "stream",
     "text": [
      "48it [00:00, 756.72it/s]\n"
     ]
    }
   ],
   "source": [
    "simulation_week1.request_driver_matching()"
   ]
  },
  {
   "cell_type": "code",
   "execution_count": null,
   "metadata": {},
   "outputs": [],
   "source": []
  },
  {
   "cell_type": "markdown",
   "metadata": {},
   "source": [
    "#### test on a week(7 days)"
   ]
  },
  {
   "cell_type": "code",
   "execution_count": 4,
   "metadata": {},
   "outputs": [
    {
     "name": "stdout",
     "output_type": "stream",
     "text": [
      "simulation on day 0\n",
      "drivers_week1_today.size():torch.Size([100, 6])\n",
      "requests_week1_today.size():torch.Size([1082, 8])\n"
     ]
    },
    {
     "name": "stderr",
     "output_type": "stream",
     "text": [
      "0it [00:00, ?it/s]"
     ]
    },
    {
     "name": "stderr",
     "output_type": "stream",
     "text": [
      "48it [00:00, 858.94it/s]\n"
     ]
    }
   ],
   "source": [
    "for d in range(1):\n",
    "    print(f'simulation on day {d}')\n",
    "    drivers_week1_today = simulation_week1.simulate_supply()\n",
    "    requests_week1_today = simulation_week1.simulate_demand()\n",
    "    print(f'drivers_week1_today.size():{drivers_week1_today.size()}')\n",
    "    print(f'requests_week1_today.size():{requests_week1_today.size()}')\n",
    "    simulation_week1.request_driver_matching()\n",
    "    simulation_week1.update_gamma_distns()\n",
    "    simulation_week1.current_day += 1"
   ]
  },
  {
   "cell_type": "code",
   "execution_count": null,
   "metadata": {},
   "outputs": [],
   "source": []
  },
  {
   "cell_type": "code",
   "execution_count": 8,
   "metadata": {},
   "outputs": [
    {
     "data": {
      "text/plain": [
       "Text(0.5, 0, 'Bins')"
      ]
     },
     "execution_count": 8,
     "metadata": {},
     "output_type": "execute_result"
    },
    {
     "data": {
      "image/png": "[encoded data removed]",
      "text/plain": [
       "<Figure size 640x480 with 1 Axes>"
      ]
     },
     "metadata": {},
     "output_type": "display_data"
    }
   ],
   "source": [
    "bins = 16\n",
    "hist = torch.histc(torch.randint(0, 16, (100,)).float(), bins = bins, min = 0, max = 15)\n",
    "\n",
    "x = range(bins)\n",
    "plt.bar(x, hist, align='center')\n",
    "plt.xlabel('Bins')"
   ]
  },
  {
   "cell_type": "code",
   "execution_count": 23,
   "metadata": {},
   "outputs": [],
   "source": [
    "# log_normal_dist = torch.distributions.log_normal.LogNormal(5, 2.5)\n",
    "\n",
    "# # Sample durations from the log-normal distribution\n",
    "# # .clamp(min=30, max=24*60)\n",
    "# idle_duration = log_normal_dist.sample((1000,)).clamp(min=2*60, max=24*60).int().long()"
   ]
  },
  {
   "cell_type": "code",
   "execution_count": 15,
   "metadata": {},
   "outputs": [],
   "source": [
    "exponential_dist = torch.distributions.exponential.Exponential(torch.tensor(1.0 / 480))\n",
    "\n",
    "# don't do resampling for now to save runtime, shift the exp var to have a minimum value\n",
    "idle_duration = (exponential_dist.sample((100,)) + 120).clamp(min=1, max=24 * 60).int().long()"
   ]
  },
  {
   "cell_type": "code",
   "execution_count": 16,
   "metadata": {},
   "outputs": [
    {
     "data": {
      "text/plain": [
       "tensor([ 653, 1440, 1440,  794,  961,  686, 1440,  140,  186,  682, 1105,  669,\n",
       "        1440,  197,  653,  325,  164,  790,  239,  904,  848,  936,  232,  408,\n",
       "         560,  178,  983,  123,  409, 1037,  360,  192,  326,  243,  705,  229,\n",
       "         166,  454, 1001,  152,  563,  186,  159,  561,  336, 1077,  223,  326,\n",
       "         362, 1390,  687,  506,  385,  290,  193, 1404,  124,  467,  741,  809,\n",
       "        1440,  455,  761, 1060,  352, 1440,  306,  207,  461,  385, 1440,  657,\n",
       "         496,  329,  230,  164,  731,  816,  127,  585,  998,  317,  976,  229,\n",
       "         571,  880,  330,  467,  905,  667,  344,  897,  518,  240,  396,  120,\n",
       "         156,  275, 1440,  408])"
      ]
     },
     "execution_count": 16,
     "metadata": {},
     "output_type": "execute_result"
    }
   ],
   "source": [
    "idle_duration"
   ]
  },
  {
   "cell_type": "code",
   "execution_count": 34,
   "metadata": {},
   "outputs": [],
   "source": [
    "mean_idle_time = 600 \n",
    "#epsilon = 1e-6"
   ]
  },
  {
   "cell_type": "code",
   "execution_count": 35,
   "metadata": {},
   "outputs": [],
   "source": [
    "# lambda_value = 1.0 / (mean_idle_time)  # λ for exponential distribution, epsilon\n",
    "# exponential_dist = torch.distributions.Exponential(torch.tensor(lambda_value))\n",
    "# idle_duration = exponential_dist.sample((100,)).clamp(min=4*60, max=24*60).int().long()"
   ]
  },
  {
   "cell_type": "code",
   "execution_count": 36,
   "metadata": {},
   "outputs": [
    {
     "data": {
      "text/plain": [
       "tensor([ 355,  240,  711, 1440,  784,  260,  373,  792, 1440,  420,  240,  484,\n",
       "        1440, 1440,  294,  594,  240,  837,  911,  240, 1052,  591,  464,  591,\n",
       "        1440, 1440,  313,  754,  336,  240, 1440,  724,  240,  240,  513,  326,\n",
       "         488, 1434,  663,  240,  317,  528,  531,  240, 1154,  290,  240,  776,\n",
       "         873,  240, 1316,  240,  240,  240, 1216,  240, 1440,  240,  377,  240,\n",
       "         595,  914,  364,  240,  649,  240,  240, 1440, 1440,  527,  581, 1156,\n",
       "         240, 1011, 1069,  240,  240,  686,  457,  240, 1440,  758,  800,  240,\n",
       "         240, 1440,  240,  240,  340,  248,  489,  786,  316,  374,  240,  248,\n",
       "         245,  897,  463,  357])"
      ]
     },
     "execution_count": 36,
     "metadata": {},
     "output_type": "execute_result"
    }
   ],
   "source": [
    "idle_duration"
   ]
  },
  {
   "cell_type": "code",
   "execution_count": 17,
   "metadata": {},
   "outputs": [
    {
     "data": {
      "text/plain": [
       "Text(0.5, 0, 'Bins')"
      ]
     },
     "execution_count": 17,
     "metadata": {},
     "output_type": "execute_result"
    },
    {
     "data": {
      "image/png": "[encoded data removed]",
      "text/plain": [
       "<Figure size 640x480 with 1 Axes>"
      ]
     },
     "metadata": {},
     "output_type": "display_data"
    }
   ],
   "source": [
    "bins = 24\n",
    "hist = torch.histc(idle_duration.float(), bins = bins, min=0, max=24*60)\n",
    "\n",
    "x = range(bins)\n",
    "plt.bar(x, hist, align='center')\n",
    "plt.xlabel('Bins')"
   ]
  },
  {
   "cell_type": "code",
   "execution_count": 8,
   "metadata": {},
   "outputs": [],
   "source": [
    "driver_idle_timestamps = simulation_week1.S_Drivers[:, 0]"
   ]
  },
  {
   "cell_type": "code",
   "execution_count": 14,
   "metadata": {},
   "outputs": [
    {
     "data": {
      "text/plain": [
       "tensor([1200,  420,  540,  420,  780,  900,  887, 1027,  540,  600,  900, 1200,\n",
       "        1136,  540,  840,  960, 1248, 1320,  533,  600,  660,  840,  120, 1080,\n",
       "         780,  660, 1260, 1320, 1446, 1200, 1080,  411,  960, 1320,  960, 1140,\n",
       "         480, 1260, 1260, 1020, 1020,  960, 1020,  742, 1260, 1423,  606,  600,\n",
       "        1140,  540, 1260,  960,  300, 1140,  840, 1140,  615, 1140, 1200, 1200,\n",
       "        1080,  660,  900,  780,  540, 1200,  600,  957,  960, 1140,  480, 1320,\n",
       "         600,  121,  540,  420, 1140, 1140,  882,  837,  960,  840,  480,  535,\n",
       "         420,  780,  120,  360, 1260,  720,  420,  606,  480, 1140,  720, 1380,\n",
       "        1080,  540,  207,   60], dtype=torch.int32)"
      ]
     },
     "execution_count": 14,
     "metadata": {},
     "output_type": "execute_result"
    }
   ],
   "source": [
    "driver_idle_timestamps.int()"
   ]
  },
  {
   "cell_type": "code",
   "execution_count": 10,
   "metadata": {},
   "outputs": [],
   "source": [
    "driver_idle_duration = simulation_week1.S_Drivers[:, 1]"
   ]
  },
  {
   "cell_type": "code",
   "execution_count": 15,
   "metadata": {},
   "outputs": [
    {
     "data": {
      "text/plain": [
       "tensor([ 975, 1230,  208,  315,  393,  285,  724, 1034,  258,  564,  325,  206,\n",
       "         797,  128,  167,  201,  449,  517,  169,  157, 1009, 1023,  433,  962,\n",
       "        1198,  945,  884,  313,  480, 1440, 1009,  316,  220,  512,  174, 1440,\n",
       "         206,  453,  693,  648,  314,  186,  340,  773,  303, 1398,  200,  259,\n",
       "        1130, 1440,  354, 1440,  380,  431,  134,  534,  324,  192, 1440, 1440,\n",
       "         231,  351, 1440,  836,  124,  841,  316,  825,  377,  673,  290, 1440,\n",
       "         235,  896,  235,  210, 1440,  140,  942,  675, 1200,  373,  189,  819,\n",
       "         401,  364,  701, 1440,  857,  199,  342,  137,  397,  212,  537, 1167,\n",
       "         773,  560,  253, 1089], dtype=torch.int32)"
      ]
     },
     "execution_count": 15,
     "metadata": {},
     "output_type": "execute_result"
    }
   ],
   "source": [
    "driver_idle_duration.int()"
   ]
  },
  {
   "cell_type": "code",
   "execution_count": 19,
   "metadata": {},
   "outputs": [
    {
     "data": {
      "text/plain": [
       "(tensor(0.9810), tensor(0.1010))"
      ]
     },
     "execution_count": 19,
     "metadata": {},
     "output_type": "execute_result"
    }
   ],
   "source": [
    "simulation_week1.daily_num_requests.mean(), simulation_week1.daily_rider_accepts.mean()"
   ]
  },
  {
   "cell_type": "code",
   "execution_count": 21,
   "metadata": {},
   "outputs": [
    {
     "data": {
      "text/plain": [
       "tensor([0., 0., 0., 0., 0., 0., 0., 0., 0., 1., 0., 0., 1., 0., 1., 0., 0., 0.,\n",
       "        0., 1., 0., 0., 0., 0., 0., 1., 0., 0., 1., 0., 0., 1., 0., 1., 1., 0.,\n",
       "        1., 0., 0., 0., 0., 0., 1., 0., 0., 0., 0., 0., 1., 0., 1., 0., 0., 1.,\n",
       "        0., 0., 0., 1., 1., 0., 0., 0., 1., 0., 0., 0., 0., 1., 0., 1., 0., 0.,\n",
       "        0., 1., 0., 1., 0., 1., 0., 0., 0., 0., 0., 0., 0., 1., 1., 0., 0., 0.,\n",
       "        0., 0., 0., 0., 0., 0., 0., 0., 0., 0., 0., 1., 0., 0., 0., 0., 0., 0.,\n",
       "        0., 1., 0., 0., 0., 0., 0., 0., 0., 0., 0., 0., 0., 0., 1., 0., 0., 0.,\n",
       "        0., 0., 0., 0., 0., 0., 0., 0., 0., 0., 0., 0., 0., 0., 0., 1., 0., 0.,\n",
       "        0., 0., 0., 0., 0., 0., 0., 1., 0., 0., 0., 0., 0., 0., 0., 0., 0., 0.,\n",
       "        1., 0., 0., 0., 0., 0., 0., 0., 0., 0., 0., 0., 0., 0., 0., 0., 0., 0.,\n",
       "        0., 0., 0., 0., 1., 0., 0., 0., 0., 0., 0., 0., 1., 0., 0., 0., 0., 0.,\n",
       "        0., 0., 0., 0., 0., 0., 0., 0., 0., 0., 1., 0., 0., 0., 0., 0., 0., 0.,\n",
       "        0., 0., 0., 0., 0., 2., 0., 0., 0., 0., 0., 0., 0., 0., 0., 0., 1., 0.,\n",
       "        0., 0., 0., 0., 0., 0., 0., 0., 0., 0., 0., 0., 0., 0., 1., 0., 0., 0.,\n",
       "        0., 1., 0., 0., 0., 0., 3., 0., 0., 0., 0., 0., 0., 1., 0., 0., 0., 0.,\n",
       "        0., 0., 0., 0., 0., 0., 0., 0., 0., 0., 0., 0., 0., 0., 0., 1., 1., 1.,\n",
       "        0., 0., 1., 0., 0., 0., 0., 0., 0., 0., 0., 0., 0., 0., 0., 0., 0., 0.,\n",
       "        1., 0., 0., 0., 0., 0., 0., 0., 0., 0., 0., 0., 0., 0., 0., 0., 0., 0.,\n",
       "        0., 0., 0., 1., 0., 0., 0., 0., 0., 0., 0., 0., 0., 0., 0., 0., 0., 0.,\n",
       "        0., 0., 0., 0., 0., 0., 0., 0., 0., 0., 0., 0., 0., 0., 0., 0., 0., 0.,\n",
       "        0., 0., 0., 1., 0., 1., 0., 0., 0., 0., 0., 0., 0., 0., 0., 0., 0., 0.,\n",
       "        0., 0., 0., 0., 0., 1., 0., 0., 0., 0., 0., 0., 0., 1., 0., 0., 0., 0.,\n",
       "        0., 0., 0., 1., 0., 0., 0., 0., 0., 0., 0., 0., 0., 0., 0., 0., 0., 1.,\n",
       "        0., 0., 0., 0., 0., 0., 0., 0., 0., 0., 0., 0., 0., 0., 0., 0., 0., 0.,\n",
       "        0., 0., 1., 0., 0., 0., 0., 0., 0., 0., 0., 0., 0., 0., 0., 1., 0., 0.,\n",
       "        0., 0., 0., 0., 0., 0., 0., 0., 0., 0., 0., 0., 0., 0., 0., 0., 0., 0.,\n",
       "        0., 1., 0., 0., 0., 0., 0., 0., 0., 1., 0., 0., 0., 0., 0., 0., 0., 0.,\n",
       "        0., 0., 0., 0., 0., 1., 0., 0., 0., 0., 0., 0., 0., 0., 0., 0., 0., 0.,\n",
       "        0., 0., 0., 0., 0., 0., 0., 0., 0., 0., 0., 0., 2., 0., 1., 0., 0., 0.,\n",
       "        0., 0., 0., 0., 0., 0., 0., 0., 0., 0., 0., 0., 0., 0., 0., 0., 1., 0.,\n",
       "        0., 0., 0., 0., 0., 0., 1., 0., 0., 0., 0., 0., 0., 0., 0., 0., 0., 0.,\n",
       "        0., 0., 0., 0., 0., 0., 1., 0., 0., 0., 0., 0., 0., 0., 0., 0., 0., 0.,\n",
       "        0., 0., 0., 0., 0., 0., 0., 0., 0., 0., 0., 0., 0., 0., 0., 0., 0., 0.,\n",
       "        0., 0., 0., 0., 0., 0., 0., 0., 0., 0., 0., 0., 0., 0., 0., 0., 0., 0.,\n",
       "        0., 0., 0., 0., 0., 0., 0., 0., 0., 0., 0., 0., 0., 0., 0., 0., 0., 0.,\n",
       "        0., 0., 0., 0., 0., 0., 0., 0., 0., 0., 1., 0., 0., 0., 1., 0., 0., 1.,\n",
       "        0., 0., 0., 0., 0., 0., 0., 0., 0., 0., 0., 0., 0., 1., 0., 0., 0., 0.,\n",
       "        0., 0., 0., 0., 0., 0., 0., 0., 0., 0., 0., 0., 0., 0., 0., 0., 0., 0.,\n",
       "        0., 0., 0., 0., 0., 0., 0., 0., 0., 0., 0., 0., 0., 0., 0., 0., 0., 0.,\n",
       "        0., 0., 0., 0., 0., 0., 0., 0., 0., 0., 0., 0., 0., 0., 0., 0., 0., 0.,\n",
       "        0., 0., 0., 0., 0., 0., 0., 0., 0., 0., 0., 0., 1., 0., 0., 0., 0., 0.,\n",
       "        0., 0., 0., 0., 0., 0., 0., 0., 0., 0., 0., 0., 0., 0., 0., 0., 1., 0.,\n",
       "        3., 1., 1., 0., 0., 0., 0., 0., 0., 0., 0., 0., 0., 0., 2., 0., 0., 0.,\n",
       "        2., 0., 0., 0., 0., 2., 0., 0., 0., 0., 0., 0., 1., 0., 0., 0., 0., 0.,\n",
       "        1., 0., 0., 0., 0., 0., 0., 0., 1., 0., 0., 1., 0., 0., 0., 0., 1., 0.,\n",
       "        0., 0., 0., 0., 0., 0., 0., 0., 0., 0., 0., 0., 0., 0., 0., 0., 1., 0.,\n",
       "        0., 0., 0., 0., 0., 0., 0., 0., 0., 0., 0., 0., 0., 0., 0., 0., 1., 0.,\n",
       "        0., 0., 0., 0., 1., 0., 0., 0., 1., 0., 0., 0., 0., 0., 0., 0., 0., 1.,\n",
       "        0., 0., 0., 0., 0., 0., 0., 1., 0., 0., 0., 0., 0., 0., 1., 0., 0., 0.,\n",
       "        0., 0., 0., 0., 0., 0., 0., 0., 0., 1., 0., 0., 0., 0., 0., 0., 0., 0.,\n",
       "        0., 0., 0., 0., 0., 0., 1., 0., 1., 0., 0., 0., 0., 0., 0., 0., 0., 0.,\n",
       "        0., 0., 0., 1., 0., 0., 0., 0., 0., 0., 0., 0., 0., 1., 0., 0., 0., 0.,\n",
       "        0., 0., 0., 0., 0., 0., 0., 0., 0., 0., 0., 0., 0., 0., 0., 0., 0., 0.,\n",
       "        0., 0., 0., 0., 0., 1., 0., 0., 0., 0., 0., 0., 0., 0., 0., 1., 0., 0.,\n",
       "        0., 0., 0., 0., 0., 0., 0., 0., 0., 0., 0., 0., 0., 0., 0., 0., 0., 0.,\n",
       "        0., 0., 0., 0., 0., 0., 0., 0., 0., 0.])"
      ]
     },
     "execution_count": 21,
     "metadata": {},
     "output_type": "execute_result"
    }
   ],
   "source": [
    "simulation_week1.daily_rider_accepts"
   ]
  },
  {
   "cell_type": "code",
   "execution_count": null,
   "metadata": {},
   "outputs": [],
   "source": []
  },
  {
   "cell_type": "code",
   "execution_count": 18,
   "metadata": {},
   "outputs": [
    {
     "data": {
      "text/plain": [
       "tensor(0.1200)"
      ]
     },
     "execution_count": 18,
     "metadata": {},
     "output_type": "execute_result"
    }
   ],
   "source": [
    "simulation_week1.daily_driver_rejects.mean()"
   ]
  },
  {
   "cell_type": "code",
   "execution_count": null,
   "metadata": {},
   "outputs": [],
   "source": []
  },
  {
   "cell_type": "code",
   "execution_count": 12,
   "metadata": {},
   "outputs": [
    {
     "data": {
      "text/plain": [
       "Text(0.5, 0, 'Bins')"
      ]
     },
     "execution_count": 12,
     "metadata": {},
     "output_type": "execute_result"
    },
    {
     "data": {
      "image/png": "[encoded data removed]",
      "text/plain": [
       "<Figure size 640x480 with 1 Axes>"
      ]
     },
     "metadata": {},
     "output_type": "display_data"
    }
   ],
   "source": [
    "bins = 24\n",
    "hist = torch.histc(driver_idle_timestamps, bins = bins, min = 0, max = 24*60)\n",
    "\n",
    "x = range(bins)\n",
    "plt.bar(x, hist, align='center')\n",
    "plt.xlabel('Bins')"
   ]
  },
  {
   "cell_type": "code",
   "execution_count": 13,
   "metadata": {},
   "outputs": [
    {
     "data": {
      "text/plain": [
       "Text(0.5, 0, 'Bins')"
      ]
     },
     "execution_count": 13,
     "metadata": {},
     "output_type": "execute_result"
    },
    {
     "data": {
      "image/png": "[encoded data removed]",
      "text/plain": [
       "<Figure size 640x480 with 1 Axes>"
      ]
     },
     "metadata": {},
     "output_type": "display_data"
    }
   ],
   "source": [
    "bins = 24\n",
    "hist = torch.histc(driver_idle_duration, bins = bins, min=0, max=24*60)\n",
    "\n",
    "x = range(bins)\n",
    "plt.bar(x, hist, align='center')\n",
    "plt.xlabel('Bins')"
   ]
  },
  {
   "cell_type": "code",
   "execution_count": 12,
   "metadata": {},
   "outputs": [
    {
     "data": {
      "text/plain": [
       "(tensor(284.9100), tensor(387.7381))"
      ]
     },
     "execution_count": 12,
     "metadata": {},
     "output_type": "execute_result"
    }
   ],
   "source": [
    "driver_idle_duration.mean(), driver_idle_duration.std()"
   ]
  },
  {
   "cell_type": "code",
   "execution_count": null,
   "metadata": {},
   "outputs": [],
   "source": []
  },
  {
   "cell_type": "code",
   "execution_count": 52,
   "metadata": {},
   "outputs": [],
   "source": [
    "num_drivers = 100\n",
    "mean_idle_time = 8*60\n",
    "exponential_dist = torch.distributions.exponential.Exponential(torch.tensor(1.0 / mean_idle_time))"
   ]
  },
  {
   "cell_type": "code",
   "execution_count": 53,
   "metadata": {},
   "outputs": [],
   "source": [
    "idle_duration = exponential_dist.sample((num_drivers,)).clamp(min=30, max=24 * 60).int().long()"
   ]
  },
  {
   "cell_type": "code",
   "execution_count": 54,
   "metadata": {},
   "outputs": [
    {
     "data": {
      "text/plain": [
       "tensor([ 313,  238,  170,   30,  170, 1440,  293,  199, 1440,  139,  209,  128,\n",
       "        1055,  223,  468,  270, 1122,  407,  168,  313,   77,  941,  370,  776,\n",
       "         161,   52,  312,  642,  116, 1314, 1389,   47,  598,  244,  268,  465,\n",
       "         195,   92,   66,  710,  184,  771, 1052,   91,  131,  104,  138,  277,\n",
       "         128,  238,  472,  243,  414,  158,  230,  339,  547,  367,  288,  629,\n",
       "         142,  319,   79,  106,  381,   92,   76,  237, 1251,   30, 1440,  128,\n",
       "          30,  332,  515,   77,  115, 1440,  619,   30,   30,  261,   98,  712,\n",
       "         591,  273,   30,   66,  226, 1104,  132,   52,  219, 1069,  306,   77,\n",
       "         133,   30, 1187,  216])"
      ]
     },
     "execution_count": 54,
     "metadata": {},
     "output_type": "execute_result"
    }
   ],
   "source": [
    "idle_duration"
   ]
  },
  {
   "cell_type": "code",
   "execution_count": 55,
   "metadata": {},
   "outputs": [
    {
     "data": {
      "text/plain": [
       "Text(0.5, 0, 'Bins')"
      ]
     },
     "execution_count": 55,
     "metadata": {},
     "output_type": "execute_result"
    },
    {
     "data": {
      "image/png": "[encoded data removed]",
      "text/plain": [
       "<Figure size 640x480 with 1 Axes>"
      ]
     },
     "metadata": {},
     "output_type": "display_data"
    }
   ],
   "source": [
    "bins = 24\n",
    "hist = torch.histc(idle_duration.float(), bins = bins, min = 0, max = 24*60)\n",
    "\n",
    "x = range(bins)\n",
    "plt.bar(x, hist, align='center')\n",
    "plt.xlabel('Bins')\n"
   ]
  },
  {
   "cell_type": "code",
   "execution_count": null,
   "metadata": {},
   "outputs": [],
   "source": []
  },
  {
   "cell_type": "code",
   "execution_count": 4,
   "metadata": {},
   "outputs": [
    {
     "name": "stdout",
     "output_type": "stream",
     "text": [
      "simulation on day 0\n",
      "drivers_week1_today.size():torch.Size([100, 6])\n",
      "requests_week1_today.size():torch.Size([989, 8])\n"
     ]
    },
    {
     "name": "stderr",
     "output_type": "stream",
     "text": [
      "48it [00:00, 943.86it/s]\n"
     ]
    },
    {
     "name": "stdout",
     "output_type": "stream",
     "text": [
      "simulation on day 1\n",
      "drivers_week1_today.size():torch.Size([100, 6])\n",
      "requests_week1_today.size():torch.Size([1027, 8])\n"
     ]
    },
    {
     "name": "stderr",
     "output_type": "stream",
     "text": [
      "0it [00:00, ?it/s]"
     ]
    },
    {
     "name": "stderr",
     "output_type": "stream",
     "text": [
      "48it [00:00, 950.23it/s]\n"
     ]
    },
    {
     "name": "stdout",
     "output_type": "stream",
     "text": [
      "simulation on day 2\n",
      "drivers_week1_today.size():torch.Size([100, 6])\n",
      "requests_week1_today.size():torch.Size([1093, 8])\n"
     ]
    },
    {
     "name": "stderr",
     "output_type": "stream",
     "text": [
      "48it [00:00, 1070.40it/s]\n"
     ]
    },
    {
     "name": "stdout",
     "output_type": "stream",
     "text": [
      "simulation on day 3\n",
      "drivers_week1_today.size():torch.Size([100, 6])\n",
      "requests_week1_today.size():torch.Size([992, 8])\n"
     ]
    },
    {
     "name": "stderr",
     "output_type": "stream",
     "text": [
      "48it [00:00, 1378.32it/s]\n"
     ]
    },
    {
     "name": "stdout",
     "output_type": "stream",
     "text": [
      "simulation on day 4\n",
      "drivers_week1_today.size():torch.Size([100, 6])\n",
      "requests_week1_today.size():torch.Size([1020, 8])\n"
     ]
    },
    {
     "name": "stderr",
     "output_type": "stream",
     "text": [
      "48it [00:00, 1057.20it/s]\n"
     ]
    },
    {
     "name": "stdout",
     "output_type": "stream",
     "text": [
      "simulation on day 5\n",
      "drivers_week1_today.size():torch.Size([100, 6])\n",
      "requests_week1_today.size():torch.Size([988, 8])\n"
     ]
    },
    {
     "name": "stderr",
     "output_type": "stream",
     "text": [
      "48it [00:00, 834.17it/s]\n"
     ]
    },
    {
     "name": "stdout",
     "output_type": "stream",
     "text": [
      "simulation on day 6\n",
      "drivers_week1_today.size():torch.Size([100, 6])\n",
      "requests_week1_today.size():torch.Size([1016, 8])\n"
     ]
    },
    {
     "name": "stderr",
     "output_type": "stream",
     "text": [
      "48it [00:00, 627.69it/s]\n"
     ]
    }
   ],
   "source": [
    "for d in range(7):\n",
    "    print(f'simulation on day {d}')\n",
    "    drivers_week1_today = simulation_week1.simulate_supply()\n",
    "    requests_week1_today = simulation_week1.simulate_demand()\n",
    "    print(f'drivers_week1_today.size():{drivers_week1_today.size()}')\n",
    "    print(f'requests_week1_today.size():{requests_week1_today.size()}')\n",
    "    simulation_week1.request_driver_matching()\n",
    "    simulation_week1.update_gamma_distns()\n",
    "    simulation_week1.current_day += 1"
   ]
  },
  {
   "cell_type": "code",
   "execution_count": null,
   "metadata": {},
   "outputs": [],
   "source": []
  },
  {
   "cell_type": "code",
   "execution_count": null,
   "metadata": {},
   "outputs": [],
   "source": []
  }
 ],
 "metadata": {
  "kernelspec": {
   "display_name": "ride_sim",
   "language": "python",
   "name": "python3"
  },
  "language_info": {
   "codemirror_mode": {
    "name": "ipython",
    "version": 3
   },
   "file_extension": ".py",
   "mimetype": "text/x-python",
   "name": "python",
   "nbconvert_exporter": "python",
   "pygments_lexer": "ipython3",
   "version": "3.9.19"
  }
 },
 "nbformat": 4,
 "nbformat_minor": 2
}
