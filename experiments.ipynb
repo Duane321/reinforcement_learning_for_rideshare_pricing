{
 "cells": [
  {
   "cell_type": "code",
   "execution_count": 1,
   "metadata": {},
   "outputs": [],
   "source": [
    "import torch"
   ]
  },
  {
   "cell_type": "code",
   "execution_count": 2,
   "metadata": {},
   "outputs": [],
   "source": [
    "import math\n",
    "import numpy as np\n",
    "import json"
   ]
  },
  {
   "cell_type": "code",
   "execution_count": 3,
   "metadata": {},
   "outputs": [],
   "source": [
    "from lyft_simulation import *"
   ]
  },
  {
   "cell_type": "code",
   "execution_count": 287,
   "metadata": {},
   "outputs": [],
   "source": [
    "num_riders = 10\n",
    "part_size = num_riders // 4"
   ]
  },
  {
   "cell_type": "code",
   "execution_count": 197,
   "metadata": {},
   "outputs": [],
   "source": [
    "#480, 1080, 1320, total 1440, 0 is placeholder for uniform distribution\n",
    "request_times_means = torch.tensor([8 * 60, 18 * 60, 22 * 60, 0]) "
   ]
  },
  {
   "cell_type": "code",
   "execution_count": 198,
   "metadata": {},
   "outputs": [],
   "source": [
    "request_times_stds = torch.tensor([60, 60, 60, 0])"
   ]
  },
  {
   "cell_type": "code",
   "execution_count": 199,
   "metadata": {},
   "outputs": [],
   "source": [
    "#torch.rand(num_riders)\n",
    "#uniform_values_riders = torch.arange(0, 24 * 60)\n",
    "uniform_values_riders = torch.rand((num_riders, 3)) * 24 * 60"
   ]
  },
  {
   "cell_type": "code",
   "execution_count": 230,
   "metadata": {},
   "outputs": [],
   "source": [
    "num_components = 3 \n",
    "uniform_weight = 0.2\n",
    "daily_max_requests = 5"
   ]
  },
  {
   "cell_type": "code",
   "execution_count": 282,
   "metadata": {},
   "outputs": [],
   "source": [
    "#lambda for daily num_requests \n",
    "lambda_commuter, lambda_party_goer, lambda_sporadic = 1.0, 0.75, 0.75\n",
    "poisson_lambda_lst = [1.0, 0.75, 0.5]"
   ]
  },
  {
   "cell_type": "code",
   "execution_count": 269,
   "metadata": {},
   "outputs": [],
   "source": [
    "#need to multiply commuter_percentage*2(morning and evening)\n",
    "commuter_percentage = 0.25\n",
    "party_goer_percentage = 0.25\n",
    "sporadic_rider_percentage = 0.25"
   ]
  },
  {
   "cell_type": "code",
   "execution_count": 283,
   "metadata": {},
   "outputs": [],
   "source": [
    "lambda_riders = torch.cat([\n",
    "    torch.full((int(num_riders * commuter_percentage * 2),), lambda_commuter),\n",
    "    torch.full((int(num_riders * party_goer_percentage),), lambda_party_goer),\n",
    "    torch.full((int(num_riders * sporadic_rider_percentage),), lambda_sporadic)\n",
    "])"
   ]
  },
  {
   "cell_type": "code",
   "execution_count": 284,
   "metadata": {},
   "outputs": [
    {
     "data": {
      "text/plain": [
       "tensor([1.0000, 1.0000, 1.0000, 1.0000, 1.0000, 0.7500, 0.7500, 0.7500, 0.7500,\n",
       "        0.7500])"
      ]
     },
     "execution_count": 284,
     "metadata": {},
     "output_type": "execute_result"
    }
   ],
   "source": [
    "lambda_riders"
   ]
  },
  {
   "cell_type": "code",
   "execution_count": 201,
   "metadata": {},
   "outputs": [],
   "source": [
    "gaussian_mask = torch.rand(num_riders) < (1 - uniform_weight)\n",
    "component_indices = torch.where(\n",
    "    gaussian_mask,\n",
    "    torch.randint(0, num_components, (num_riders,)),\n",
    "    num_components\n",
    ")"
   ]
  },
  {
   "cell_type": "code",
   "execution_count": 209,
   "metadata": {},
   "outputs": [],
   "source": [
    "request_times = torch.where(\n",
    "    component_indices < num_components,\n",
    "    request_times_means[component_indices] + request_times_stds[component_indices] * torch.randn(num_riders),\n",
    "    torch.randint(0, 24 * 60, (num_riders,), dtype=torch.float)\n",
    ").clamp(min=0, max=24*60-1).unsqueeze(1)"
   ]
  },
  {
   "cell_type": "code",
   "execution_count": 210,
   "metadata": {},
   "outputs": [
    {
     "data": {
      "text/plain": [
       "tensor([[ 570.1089],\n",
       "        [1210.9481],\n",
       "        [1127.2522],\n",
       "        [1439.0000],\n",
       "        [1027.0530],\n",
       "        [1100.6929],\n",
       "        [1138.2754],\n",
       "        [1404.3544],\n",
       "        [ 867.0000],\n",
       "        [1102.0916]])"
      ]
     },
     "execution_count": 210,
     "metadata": {},
     "output_type": "execute_result"
    }
   ],
   "source": [
    "### assume each rider will have one request per day\n",
    "request_times"
   ]
  },
  {
   "cell_type": "code",
   "execution_count": 211,
   "metadata": {},
   "outputs": [],
   "source": [
    "start_locations = torch.rand(num_riders, 2)\n",
    "end_locations = torch.rand(num_riders, 2)"
   ]
  },
  {
   "cell_type": "code",
   "execution_count": 212,
   "metadata": {},
   "outputs": [
    {
     "data": {
      "text/plain": [
       "(torch.Size([10, 1]), torch.Size([10, 2]), torch.Size([10, 2]))"
      ]
     },
     "execution_count": 212,
     "metadata": {},
     "output_type": "execute_result"
    }
   ],
   "source": [
    "request_times.size(), start_locations.size(), end_locations.size()"
   ]
  },
  {
   "cell_type": "code",
   "execution_count": 213,
   "metadata": {},
   "outputs": [],
   "source": [
    "riders = torch.cat((request_times, start_locations, end_locations), 1)"
   ]
  },
  {
   "cell_type": "code",
   "execution_count": 214,
   "metadata": {},
   "outputs": [
    {
     "data": {
      "text/plain": [
       "tensor([[5.7011e+02, 7.9924e-01, 3.1234e-01, 1.5783e-01, 6.0394e-01],\n",
       "        [1.2109e+03, 1.6344e-01, 7.0099e-01, 1.4030e-01, 7.3016e-01],\n",
       "        [1.1273e+03, 8.5393e-01, 3.9847e-01, 8.9361e-02, 5.0212e-01],\n",
       "        [1.4390e+03, 3.3003e-01, 3.8417e-01, 3.1413e-02, 4.9430e-01],\n",
       "        [1.0271e+03, 4.3182e-01, 5.5633e-01, 2.7362e-01, 2.1845e-01],\n",
       "        [1.1007e+03, 2.4589e-01, 4.5831e-01, 1.9662e-01, 6.5581e-02],\n",
       "        [1.1383e+03, 5.4955e-01, 1.3266e-01, 1.6018e-01, 9.6618e-01],\n",
       "        [1.4044e+03, 1.6129e-01, 3.6003e-01, 5.7648e-01, 5.3612e-01],\n",
       "        [8.6700e+02, 7.2542e-01, 8.7081e-01, 7.1688e-01, 8.8898e-01],\n",
       "        [1.1021e+03, 6.7640e-01, 2.8853e-01, 2.3303e-01, 3.2791e-01]])"
      ]
     },
     "execution_count": 214,
     "metadata": {},
     "output_type": "execute_result"
    }
   ],
   "source": [
    "riders"
   ]
  },
  {
   "cell_type": "code",
   "execution_count": null,
   "metadata": {},
   "outputs": [],
   "source": []
  },
  {
   "cell_type": "code",
   "execution_count": null,
   "metadata": {},
   "outputs": [],
   "source": [
    "### every 25% of the num_riders index correspond to a rider type, each rider has a lambda \n",
    "### for each day, sample relative lambda and poission for the daily number of request(from 0 to 5)\n",
    "### then sample the corresponding request time with mask based on rider type"
   ]
  },
  {
   "cell_type": "code",
   "execution_count": 289,
   "metadata": {},
   "outputs": [],
   "source": [
    "daily_num_requests = torch.poisson(lambda_riders).clamp(max=daily_max_requests)"
   ]
  },
  {
   "cell_type": "code",
   "execution_count": 294,
   "metadata": {},
   "outputs": [
    {
     "data": {
      "text/plain": [
       "tensor([1., 0., 1., 0., 2., 1., 0., 0., 0., 0.])"
      ]
     },
     "execution_count": 294,
     "metadata": {},
     "output_type": "execute_result"
    }
   ],
   "source": [
    "daily_num_requests"
   ]
  },
  {
   "cell_type": "code",
   "execution_count": 303,
   "metadata": {},
   "outputs": [],
   "source": [
    "request_indices = torch.arange(daily_num_requests.sum().int())"
   ]
  },
  {
   "cell_type": "code",
   "execution_count": 304,
   "metadata": {},
   "outputs": [
    {
     "data": {
      "text/plain": [
       "tensor([0, 1, 2, 3, 4])"
      ]
     },
     "execution_count": 304,
     "metadata": {},
     "output_type": "execute_result"
    }
   ],
   "source": [
    "request_indices"
   ]
  },
  {
   "cell_type": "code",
   "execution_count": 308,
   "metadata": {},
   "outputs": [],
   "source": [
    "# rider index for each request\n",
    "rider_indices = torch.repeat_interleave(torch.arange(num_riders), daily_num_requests.int())"
   ]
  },
  {
   "cell_type": "code",
   "execution_count": 309,
   "metadata": {},
   "outputs": [
    {
     "data": {
      "text/plain": [
       "tensor([0, 2, 4, 4, 5])"
      ]
     },
     "execution_count": 309,
     "metadata": {},
     "output_type": "execute_result"
    }
   ],
   "source": [
    "rider_indices"
   ]
  },
  {
   "cell_type": "code",
   "execution_count": 291,
   "metadata": {},
   "outputs": [],
   "source": [
    "indices = torch.arange(num_riders)\n",
    "mask1 = indices < part_size\n",
    "mask2 = (indices >= part_size) & (indices < 2 * part_size)\n",
    "mask3 = (indices >= 2 * part_size) & (indices < 3 * part_size)\n",
    "mask4 = indices >= 3 * part_size"
   ]
  },
  {
   "cell_type": "code",
   "execution_count": 320,
   "metadata": {},
   "outputs": [
    {
     "data": {
      "text/plain": [
       "tensor([ True, False, False, False, False])"
      ]
     },
     "execution_count": 320,
     "metadata": {},
     "output_type": "execute_result"
    }
   ],
   "source": [
    "mask1[rider_indices]"
   ]
  },
  {
   "cell_type": "code",
   "execution_count": 319,
   "metadata": {},
   "outputs": [
    {
     "data": {
      "text/plain": [
       "tensor([False,  True, False, False, False])"
      ]
     },
     "execution_count": 319,
     "metadata": {},
     "output_type": "execute_result"
    }
   ],
   "source": [
    "mask2[rider_indices]"
   ]
  },
  {
   "cell_type": "code",
   "execution_count": 317,
   "metadata": {},
   "outputs": [
    {
     "data": {
      "text/plain": [
       "tensor([False, False,  True,  True,  True])"
      ]
     },
     "execution_count": 317,
     "metadata": {},
     "output_type": "execute_result"
    }
   ],
   "source": [
    "mask3[rider_indices]"
   ]
  },
  {
   "cell_type": "code",
   "execution_count": 316,
   "metadata": {},
   "outputs": [],
   "source": [
    "request_times = torch.where(\n",
    "    mask1[rider_indices],\n",
    "    torch.normal(request_times_means[0], request_times_stds[0], size=(len(request_indices),)),\n",
    "    torch.where(\n",
    "        mask2[rider_indices],\n",
    "        torch.normal(request_times_means[1], request_times_stds[1], size=(len(request_indices),)),\n",
    "        torch.where(\n",
    "            mask3[rider_indices],\n",
    "            torch.normal(request_times_means[2], request_times_stds[2], size=(len(request_indices),)),\n",
    "            torch.randint(0, 24 * 60, size=(len(request_indices),), dtype=torch.float)\n",
    "        )\n",
    "    )\n",
    ").clamp(min=0, max=24*60-1).unsqueeze(1)"
   ]
  },
  {
   "cell_type": "code",
   "execution_count": 318,
   "metadata": {},
   "outputs": [
    {
     "data": {
      "text/plain": [
       "tensor([[ 526.5052],\n",
       "        [1103.4878],\n",
       "        [1289.7363],\n",
       "        [1343.8998],\n",
       "        [1221.3777]])"
      ]
     },
     "execution_count": 318,
     "metadata": {},
     "output_type": "execute_result"
    }
   ],
   "source": [
    "request_times"
   ]
  },
  {
   "cell_type": "code",
   "execution_count": 321,
   "metadata": {},
   "outputs": [],
   "source": [
    "start_locations = torch.rand(len(request_indices), 2)\n",
    "end_locations = torch.rand(len(request_indices), 2)"
   ]
  },
  {
   "cell_type": "code",
   "execution_count": 322,
   "metadata": {},
   "outputs": [],
   "source": [
    "riders = torch.cat((request_times, start_locations, end_locations), 1)"
   ]
  },
  {
   "cell_type": "code",
   "execution_count": 323,
   "metadata": {},
   "outputs": [
    {
     "data": {
      "text/plain": [
       "tensor([[5.2651e+02, 7.8714e-01, 1.9073e-02, 9.4093e-02, 4.9175e-01],\n",
       "        [1.1035e+03, 7.6533e-01, 8.5661e-01, 3.2850e-01, 6.7690e-01],\n",
       "        [1.2897e+03, 1.6956e-01, 3.3152e-01, 7.1632e-01, 9.1407e-01],\n",
       "        [1.3439e+03, 1.3212e-02, 2.2150e-01, 7.7902e-01, 4.1861e-02],\n",
       "        [1.2214e+03, 4.8751e-01, 6.3432e-02, 2.6996e-01, 7.6713e-01]])"
      ]
     },
     "execution_count": 323,
     "metadata": {},
     "output_type": "execute_result"
    }
   ],
   "source": [
    "riders"
   ]
  },
  {
   "cell_type": "code",
   "execution_count": null,
   "metadata": {},
   "outputs": [],
   "source": []
  },
  {
   "cell_type": "markdown",
   "metadata": {},
   "source": [
    "### test py code"
   ]
  },
  {
   "cell_type": "code",
   "execution_count": 4,
   "metadata": {},
   "outputs": [],
   "source": [
    "T0_pricing_params = (5, 0.78, 1.82)\n",
    "lr = 0.01\n",
    "simulation_week1 = WeeklySimulation(lr, T0_pricing_params)"
   ]
  },
  {
   "cell_type": "code",
   "execution_count": 5,
   "metadata": {},
   "outputs": [],
   "source": [
    "riders_week1 = simulation_week1.simulate_riders()"
   ]
  },
  {
   "cell_type": "code",
   "execution_count": 6,
   "metadata": {},
   "outputs": [
    {
     "data": {
      "text/plain": [
       "torch.Size([1251, 5])"
      ]
     },
     "execution_count": 6,
     "metadata": {},
     "output_type": "execute_result"
    }
   ],
   "source": [
    "riders_week1.size()"
   ]
  },
  {
   "cell_type": "code",
   "execution_count": 7,
   "metadata": {},
   "outputs": [
    {
     "data": {
      "text/plain": [
       "tensor([5.1834e+02, 2.3789e-02, 4.8127e-01, 3.5029e-01, 9.3803e-01])"
      ]
     },
     "execution_count": 7,
     "metadata": {},
     "output_type": "execute_result"
    }
   ],
   "source": [
    "riders_week1[0]"
   ]
  },
  {
   "cell_type": "code",
   "execution_count": null,
   "metadata": {},
   "outputs": [],
   "source": []
  }
 ],
 "metadata": {
  "language_info": {
   "name": "python"
  }
 },
 "nbformat": 4,
 "nbformat_minor": 2
}
